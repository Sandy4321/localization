{
 "cells": [
  {
   "cell_type": "markdown",
   "metadata": {},
   "source": [
    "# Exploring UC1004 dataset"
   ]
  },
  {
   "cell_type": "code",
   "execution_count": 1,
   "metadata": {
    "collapsed": false
   },
   "outputs": [],
   "source": [
    "import sys\n",
    "sys.path.insert(0, './utils/')\n",
    "\n",
    "import geo_conv\n",
    "import sqlite3 as sqlite\n",
    "import pandas as pd\n",
    "import numpy as np\n",
    "import matplotlib.pyplot as plt\n",
    "import scipy.sparse\n",
    "from scipy.io import mmwrite, mmread\n",
    "import scipy.spatial.distance\n",
    "from sklearn.metrics import pairwise_distances\n",
    "from sklearn.neighbors import KNeighborsRegressor\n",
    "import folium\n",
    "import datetime\n",
    "import os\n",
    "\n",
    "plt.style.use('ggplot')\n",
    "%matplotlib inline"
   ]
  },
  {
   "cell_type": "markdown",
   "metadata": {},
   "source": [
    "Database schema: network, us_pos, us_signal"
   ]
  },
  {
   "cell_type": "code",
   "execution_count": 2,
   "metadata": {
    "collapsed": false
   },
   "outputs": [],
   "source": [
    "def add_lat_lon(df):\n",
    "    xy = zip(df.x.values, df.y.values)\n",
    "    latlon = map(lambda (coord):geo_conv.convert_GK_to_lat_long(coord[0]+__XMIN, coord[1]+__YMIN), xy)\n",
    "    \n",
    "    if 'lat' not in df.columns:\n",
    "        df = pd.concat([df, \n",
    "                        pd.DataFrame.from_records(latlon, columns=['lat', 'lon'])],\n",
    "                       axis=1)\n",
    "    else:\n",
    "        df[['lat', 'lon']] = pd.DataFrame.from_records(latlon, columns=['lat', 'lon'])\n",
    "        \n",
    "    return df\n",
    "\n",
    "\n",
    "def bs_mean(vector, num_samples, conf):\n",
    "    boot_sample = np.zeros_like(vector)\n",
    "    boot_means = np.zeros((num_samples))\n",
    "    for s in xrange(num_samples):\n",
    "        boot_sample = np.random.choice(vector,\n",
    "                               replace=True)\n",
    "        boot_means[s] = boot_sample.mean()\n",
    "    boot_mean.sort()\n",
    "    return np.percentile(boot_means, [(100-conf)/2, (100+conf)/2])"
   ]
  },
  {
   "cell_type": "code",
   "execution_count": 9,
   "metadata": {
    "collapsed": true
   },
   "outputs": [],
   "source": [
    "__CITY_LAT = 52.3667\n",
    "__CITY_LON = 9.7167\n",
    "__XMIN = 4336000\n",
    "__YMIN = 5794000\n",
    "__LOAD_TRAIN_TEST_MATRIX = 0\n",
    "__TRAIN_TEST_DATE = ''\n",
    "__M_FILE_FOLDER = './data/uc1004/mmfiles/'\n",
    "__DATE = '_' + datetime.datetime.now().strftime('%Y-%m-%d %H:%M:%S')"
   ]
  },
  {
   "cell_type": "code",
   "execution_count": 10,
   "metadata": {
    "collapsed": true
   },
   "outputs": [],
   "source": [
    "# Check if folder with outputs exists\n",
    "if ~os.path.isdir(__M_FILE_FOLDER):\n",
    "    os.makedirs(__M_FILE_FOLDER)"
   ]
  },
  {
   "cell_type": "code",
   "execution_count": 11,
   "metadata": {
    "collapsed": true
   },
   "outputs": [],
   "source": [
    "# Setting conntection to sqlite db\n",
    "conn = sqlite.connect('./data/uc1004/uc1004.db')"
   ]
  },
  {
   "cell_type": "markdown",
   "metadata": {},
   "source": [
    "## Getting Networkd data"
   ]
  },
  {
   "cell_type": "code",
   "execution_count": null,
   "metadata": {
    "collapsed": false
   },
   "outputs": [],
   "source": [
    "# Get Network data file\n",
    "query = 'SELECT * FROM network;'\n",
    "\n",
    "network = pd.read_sql(query, conn)\n",
    "network.shape"
   ]
  },
  {
   "cell_type": "code",
   "execution_count": null,
   "metadata": {
    "collapsed": false
   },
   "outputs": [],
   "source": [
    "network = add_lat_lon(network)\n",
    "network.set_index('cell_id', inplace=True)\n",
    "network.head(10)"
   ]
  },
  {
   "cell_type": "markdown",
   "metadata": {},
   "source": [
    "## Getting User Position"
   ]
  },
  {
   "cell_type": "markdown",
   "metadata": {},
   "source": [
    "As it goes from the article, users are categorized to:<br\\>\n",
    "Vehicular: 0 ... 4619 <br\\>\n",
    "Pedestrian: 10000 ... 15246<br\\>\n",
    "Static Indoor: 20000 ... 29999"
   ]
  },
  {
   "cell_type": "code",
   "execution_count": null,
   "metadata": {
    "collapsed": false
   },
   "outputs": [],
   "source": [
    "user_id = 10003\n",
    "query = 'SELECT * FROM us_pos INDEXED BY user_index WHERE userid=%d' % user_id\n",
    "user_pos = pd.read_sql(query, conn)"
   ]
  },
  {
   "cell_type": "code",
   "execution_count": null,
   "metadata": {
    "collapsed": false
   },
   "outputs": [],
   "source": [
    "print user_pos.shape\n",
    "user_pos.sort_values('time', inplace=True)\n",
    "user_pos.head()"
   ]
  },
  {
   "cell_type": "code",
   "execution_count": null,
   "metadata": {
    "collapsed": false
   },
   "outputs": [],
   "source": [
    "# Adding lat, long columns\n",
    "user_pos = add_lat_lon(user_pos)\n",
    "user_pos.head()"
   ]
  },
  {
   "cell_type": "markdown",
   "metadata": {},
   "source": [
    "## Getting User's RSPS"
   ]
  },
  {
   "cell_type": "code",
   "execution_count": null,
   "metadata": {
    "collapsed": true
   },
   "outputs": [],
   "source": [
    "query = 'SELECT * FROM us_signal INDEXED BY user_index_sig WHERE userid=%d' % user_id\n",
    "user_signals = pd.read_sql(query, conn)"
   ]
  },
  {
   "cell_type": "code",
   "execution_count": null,
   "metadata": {
    "collapsed": false
   },
   "outputs": [],
   "source": [
    "print user_signals.shape\n",
    "user_signals.sort_values('time', inplace=True)\n",
    "user_signals.head()"
   ]
  },
  {
   "cell_type": "code",
   "execution_count": null,
   "metadata": {
    "collapsed": false
   },
   "outputs": [],
   "source": [
    "# Identify cell set for user\n",
    "cell_id_cols = range(2, 42, 2)\n",
    "cell_ids = np.unique(user_signals.iloc[:, cell_id_cols].values.astype(int))"
   ]
  },
  {
   "cell_type": "markdown",
   "metadata": {},
   "source": [
    "## Plotting Maps From Dataset"
   ]
  },
  {
   "cell_type": "markdown",
   "metadata": {},
   "source": [
    "### Land-case map"
   ]
  },
  {
   "cell_type": "code",
   "execution_count": null,
   "metadata": {
    "collapsed": false
   },
   "outputs": [],
   "source": [
    "# Land-case map\n",
    "use_map = np.genfromtxt('./data/uc1004/Land_Use_Map.csv', delimiter=';')"
   ]
  },
  {
   "cell_type": "code",
   "execution_count": null,
   "metadata": {
    "collapsed": false
   },
   "outputs": [],
   "source": [
    "print use_map.shape # It differes from info in the article\n",
    "print np.unique(use_map)"
   ]
  },
  {
   "cell_type": "code",
   "execution_count": null,
   "metadata": {
    "collapsed": true
   },
   "outputs": [],
   "source": [
    "# .T to have refference with pics in the article\n",
    "# But map shoulb be rotated by 90 degrees (according to google maps)\n",
    "# Moreover, the map in data is not the same as in the article..\n",
    "# fig = plt.figure(figsize=(10, 20))\n",
    "# plt.imshow(use_map.T, cmap='flag')"
   ]
  },
  {
   "cell_type": "code",
   "execution_count": null,
   "metadata": {
    "collapsed": true
   },
   "outputs": [],
   "source": [
    "use_map = np.rot90(use_map)"
   ]
  },
  {
   "cell_type": "code",
   "execution_count": null,
   "metadata": {
    "collapsed": false
   },
   "outputs": [],
   "source": [
    "fig = plt.figure(figsize=(10, 20))\n",
    "plt.imshow(use_map, cmap='flag')"
   ]
  },
  {
   "cell_type": "markdown",
   "metadata": {},
   "source": [
    "### Best server map"
   ]
  },
  {
   "cell_type": "code",
   "execution_count": null,
   "metadata": {
    "collapsed": true
   },
   "outputs": [],
   "source": [
    "best_server = np.genfromtxt('./data/uc1004/Best_Server_Map.csv', delimiter=';')"
   ]
  },
  {
   "cell_type": "code",
   "execution_count": null,
   "metadata": {
    "collapsed": false
   },
   "outputs": [],
   "source": [
    "print best_server.shape # It differes from info in the article\n",
    "print np.unique(best_server) # should be at least = to # of cells"
   ]
  },
  {
   "cell_type": "code",
   "execution_count": null,
   "metadata": {
    "collapsed": true
   },
   "outputs": [],
   "source": [
    "best_server = np.rot90(best_server)"
   ]
  },
  {
   "cell_type": "code",
   "execution_count": null,
   "metadata": {
    "collapsed": false
   },
   "outputs": [],
   "source": [
    "fig = plt.figure(figsize=(10, 20))\n",
    "plt.imshow(best_server, cmap='flag')"
   ]
  },
  {
   "cell_type": "markdown",
   "metadata": {},
   "source": [
    "## Generating map with user route and cell positions"
   ]
  },
  {
   "cell_type": "code",
   "execution_count": null,
   "metadata": {
    "collapsed": false
   },
   "outputs": [],
   "source": [
    "map_hannover = folium.Map(location=[__CITY_LAT, __CITY_LON], \n",
    "                          zoom_start=15)\n",
    "map_hannover.line(locations=user_pos[['lat', 'lon']].values,\n",
    "                  line_opacity=0.5, \n",
    "                  popup=('user: ' + str(user_id)))\n",
    "for cid in cell_ids:\n",
    "    cell = network.loc[cid]\n",
    "    map_hannover.polygon_marker(location=[cell.lat, cell.lon],\n",
    "                                num_sides=3,\n",
    "                                radius=5,\n",
    "                                rotation=cell.azimuth,\n",
    "                                popup='cell_id: ' + str(cid) + '\\nazimuth: ' + str(cell.azimuth))\n",
    "\n",
    "map_hannover.create_map(path='./data/uc1004/map.html')"
   ]
  },
  {
   "cell_type": "markdown",
   "metadata": {},
   "source": [
    "## Looking at RSS"
   ]
  },
  {
   "cell_type": "code",
   "execution_count": null,
   "metadata": {
    "collapsed": false
   },
   "outputs": [],
   "source": [
    "signals_long = (pd.wide_to_long(user_signals, ['cell_id', 'rsr'], i='time', j='cell_order')\n",
    "                  .reset_index()\n",
    "                  .set_index(['cell_id', 'time'])\n",
    "                  .sort_index(level=0))\n",
    "signals_long.head()"
   ]
  },
  {
   "cell_type": "code",
   "execution_count": null,
   "metadata": {
    "collapsed": false
   },
   "outputs": [],
   "source": [
    "cell_id = 6\n",
    "signals_long.loc[cell_id].plot(y='rsr'\n",
    "                              )\n",
    "fig = plt.gcf()\n",
    "fig.set_size_inches(20,10)\n",
    "plt.ylabel('RSR')\n",
    "plt.xlabel('time')"
   ]
  },
  {
   "cell_type": "markdown",
   "metadata": {},
   "source": [
    "## Plotting Distance vs RSR"
   ]
  },
  {
   "cell_type": "code",
   "execution_count": null,
   "metadata": {
    "collapsed": true
   },
   "outputs": [],
   "source": [
    "# Picking cell and its RSR\n",
    "cell_id = 152\n",
    "cell_ss = signals_long.loc[cell_id].reset_index(drop=False)\n",
    "\n",
    "# Considering only cases when it is in top-2 of RSR rating\n",
    "cell_ss = cell_ss[cell_ss.cell_order <= 2]\n",
    "\n",
    "# Cell info\n",
    "cell_info = network.loc[cell_id]\n",
    "user_dist = np.sqrt((user_pos.x - cell_info.x)**2 + (user_pos.y - cell_info.y)**2)\n",
    "\n",
    "# Considering relevant timestamps\n",
    "idx = user_pos.time.isin(cell_ss.time)\n",
    "user_dist = user_dist.ix[idx]"
   ]
  },
  {
   "cell_type": "code",
   "execution_count": null,
   "metadata": {
    "collapsed": false
   },
   "outputs": [],
   "source": [
    "# Plotting\n",
    "\n",
    "fig = plt.figure(figsize=(20,10))\n",
    "plt.plot(user_dist, cell_ss.rsr, '.')\n",
    "plt.xlabel('Distance to user %d' % user_id)\n",
    "plt.ylabel('RSR from cell %d' % cell_id)"
   ]
  },
  {
   "cell_type": "markdown",
   "metadata": {
    "collapsed": true
   },
   "source": [
    "# k-NN baseline"
   ]
  },
  {
   "cell_type": "markdown",
   "metadata": {},
   "source": [
    "### Train\\test first look"
   ]
  },
  {
   "cell_type": "markdown",
   "metadata": {},
   "source": [
    "Picking first 1000 users' positions and their rsr <br/>\n",
    "First 500 going to training set. Others - to test <br/>\n",
    "Distance measure - cosine distance"
   ]
  },
  {
   "cell_type": "code",
   "execution_count": 12,
   "metadata": {
    "collapsed": false
   },
   "outputs": [],
   "source": [
    "# # So slow..\n",
    "# query = '''SELECT * FROM us_pos INDEXED BY user_index \n",
    "#            WHERE userid >= 0 AND userid <= 999;'''\n",
    "\n",
    "# chunker = pd.read_sql(query, conn, chunksize=10**5)\n",
    "# df_user_pos = pd.DataFrame()\n",
    "# for chunk in chunker:\n",
    "#     df_user_pos = df_user_pos.append(chunk)\n",
    "\n",
    "\n",
    "# Export to csv is still slow, but import is rather fast..\n",
    "col_types = {'time': np.dtype(float),\n",
    "             'userid': np.dtype(int),\n",
    "             'x': np.dtype(float),\n",
    "             'y': np.dtype(float)}\n",
    "\n",
    "df_user_pos = pd.read_csv('./data/uc1004/us_pos_exper.csv', \n",
    "                          header=0,\n",
    "                          dtype=col_types,\n",
    "                          usecols=col_types.keys())"
   ]
  },
  {
   "cell_type": "code",
   "execution_count": 13,
   "metadata": {
    "collapsed": false
   },
   "outputs": [
    {
     "data": {
      "text/plain": [
       "(5435392, 4)"
      ]
     },
     "execution_count": 13,
     "metadata": {},
     "output_type": "execute_result"
    }
   ],
   "source": [
    "# I have a strong feeling, that my computer's memory will be overfilled...\n",
    "df_user_pos.shape"
   ]
  },
  {
   "cell_type": "code",
   "execution_count": 14,
   "metadata": {
    "collapsed": false
   },
   "outputs": [],
   "source": [
    "# # So Slow..\n",
    "# query = '''SELECT * FROM us_signal INDEXED BY user_index_sig \n",
    "#            WHERE userid >= 0 AND userid <= 999;'''\n",
    "\n",
    "# chunker = pd.read_sql(query, conn, chunksize=10**5)\n",
    "# for chunk in chunker:\n",
    "#     df_user_rsr = df_user_rsr.append(chunk)\n",
    "# df_user_rsr.shape\n",
    "\n",
    "# # Manual transform to long format:\n",
    "# fout = open('./data/uc1004/us_sig_long.csv', 'w')\n",
    "# with open('./data/uc1004/us_sig_exper.csv', 'r') as fin:\n",
    "#     fin.readline() # skip header line\n",
    "#     fout.write('time,userid,cellid,cell_order,rsr\\n')\n",
    "#     for line in fin:\n",
    "#         line = line.split(',')\n",
    "#         time = line[0]\n",
    "#         userid = line[1]\n",
    "#         for order in xrange(1,21):\n",
    "#             cellid = line[2+2*(order-1)]\n",
    "#             rsr = line[1+2*(order)]\n",
    "#             fout.write('%s,%s,%s,%s,%s\\n' % (time, userid, cellid, order, rsr))\n",
    "# fout.close()\n",
    "\n",
    "# # Overflow...\n",
    "# # Exportin long format\n",
    "# col_types = {'time': np.dtype(float),\n",
    "#              'userid': np.dtype(int),\n",
    "#              'cellid': np.dtype(int),\n",
    "#              'order': np.dtype(int),\n",
    "#              'rsr': np.dtype(float)}\n",
    "    \n",
    "# df_user_rsr = pd.read_csv('./data/uc1004/us_sig_long.csv', \n",
    "#                           header=0,\n",
    "#                           dtype=col_types)\n",
    "\n",
    "# The only reasonably fast method and \n",
    "# memory-save method\n",
    "col_types = {'time': np.dtype(float),\n",
    "             'userid': np.dtype(int)}\n",
    "for i in xrange(1, 21):\n",
    "    col_types['cell_id%d' % i] = np.dtype(int)\n",
    "    col_types['rsr%d' % i] = np.dtype(float)\n",
    "    \n",
    "df_user_rsr = pd.read_csv('./data/uc1004/us_sig_exper.csv', \n",
    "                          header=0,\n",
    "                          dtype=col_types)"
   ]
  },
  {
   "cell_type": "code",
   "execution_count": 15,
   "metadata": {
    "collapsed": false
   },
   "outputs": [
    {
     "data": {
      "text/plain": [
       "(5435392, 40)"
      ]
     },
     "execution_count": 15,
     "metadata": {},
     "output_type": "execute_result"
    }
   ],
   "source": [
    "df_user_rsr.set_index(['userid', 'time'], inplace=True)\n",
    "df_user_rsr.shape"
   ]
  },
  {
   "cell_type": "code",
   "execution_count": null,
   "metadata": {
    "collapsed": false
   },
   "outputs": [],
   "source": [
    "# Lets look at the roots in train\\test\n",
    "df_user_pos.set_index('userid',  inplace=True)"
   ]
  },
  {
   "cell_type": "code",
   "execution_count": null,
   "metadata": {
    "collapsed": true
   },
   "outputs": [],
   "source": [
    "map_hannover = folium.Map(location=[__CITY_LAT, __CITY_LON], \n",
    "                          zoom_start=15)\n",
    "\n",
    "for index, user_data in df_user_pos.groupby(level=0):\n",
    "    user_data = add_lat_lon(user_data.reset_index())\n",
    "    user_data.sort_values('time', inplace=True)\n",
    "    if index < 500:\n",
    "        map_hannover.line(locations=user_data[['lat', 'lon']].values,\n",
    "                          line_opacity=0.2,\n",
    "                          line_color='blue')\n",
    "    else: \n",
    "        map_hannover.line(locations=user_data[['lat', 'lon']].values,\n",
    "                          line_opacity=0.2,\n",
    "                          line_color='red')\n",
    "\n",
    "# Careful, ~200mb\n",
    "map_hannover.create_map(path='./data/uc1004/test_train_map.html')"
   ]
  },
  {
   "cell_type": "markdown",
   "metadata": {},
   "source": [
    "There is an opinion, that it is better to make random train\\test split. According to the map some areas more filled with train, rather than test."
   ]
  },
  {
   "cell_type": "markdown",
   "metadata": {},
   "source": [
    "### Building obj-feat matrix"
   ]
  },
  {
   "cell_type": "markdown",
   "metadata": {},
   "source": [
    "So, for each position we have to build a feature vector, which is an average signal strength for this position from all the cells"
   ]
  },
  {
   "cell_type": "code",
   "execution_count": null,
   "metadata": {
    "collapsed": true
   },
   "outputs": [],
   "source": [
    "df_user_pos.reset_index(inplace=True, drop=False)\n",
    "\n",
    "# # remove floatting point\n",
    "# df_user_pos.x = df_user_pos.x.astype(int)\n",
    "# df_user_pos.y = df_user_pos.y.astype(int)\n",
    "\n",
    "df_user_pos.set_index(['x','y'], inplace=True)\n",
    "df_user_pos.sort_index(inplace=True)\n",
    "idx_train = df_user_pos.userid < 500\n",
    "\n",
    "# Helpful stuff\n",
    "rename_dict = {}\n",
    "for i in xrange(1,21):\n",
    "    rename_dict['cell_id%d'%i] = 'cell_id'\n",
    "    rename_dict['rsr%d'%i] = 'rsr'"
   ]
  },
  {
   "cell_type": "code",
   "execution_count": null,
   "metadata": {
    "collapsed": false
   },
   "outputs": [],
   "source": [
    "# Something to init\n",
    "train_pos_num = len(df_user_pos[idx_train].index.unique())\n",
    "test_pos_num = len(df_user_pos[~idx_train].index.unique())\n",
    "pos_train = np.empty((train_pos_num,2))\n",
    "pos_test = np.empty((test_pos_num,2))\n",
    "\n",
    "cell_num = 195 # actually there are less in the data..\n",
    "\n",
    "X_train = dok_matrix((train_pos_num, cell_num))\n",
    "X_test = dok_matrix((test_pos_num, cell_num))"
   ]
  },
  {
   "cell_type": "code",
   "execution_count": null,
   "metadata": {
    "collapsed": true
   },
   "outputs": [],
   "source": [
    "# Filling train matrix\n",
    "if __LOAD_TRAIN_TEST_MATRIX:\n",
    "    filename = 'X_train' + __TRAIN_TEST_DATE + '.mm'\n",
    "    X_train = mmread(os.path.join(__M_FILE_FOLDER, filename))\n",
    "    filename = 'pos_train' + __TRAIN_TEST_DATE + '.mm'\n",
    "    pos_train = mmread(os.path.join(__M_FILE_FOLDER, filename))\n",
    "else:\n",
    "    ind = 0\n",
    "    for pos, pos_data in df_user_pos[idx_train].groupby(level=[0,1]):\n",
    "        pos_train[ind, :] = pos\n",
    "\n",
    "        idx = zip(pos_data.userid.values, np.round(pos_data.time.values, 1))\n",
    "        sig_data = df_user_rsr.loc[idx].dropna()\n",
    "\n",
    "        if sig_data.shape[0]:\n",
    "            avg = (pd.concat([sig_data[['cell_id%d'%i,'rsr%d'%i]].rename(columns=rename_dict) for i in xrange(1,21)],\n",
    "                             axis=0, ignore_index=True)\n",
    "                     .groupby('cell_id')\n",
    "                     .rsr.agg(np.nanmean))\n",
    "            X_train[ind, avg.index.values] = avg.values\n",
    "\n",
    "        ind+=1\n",
    "        if np.mod(ind, 50000)==0:\n",
    "            print ind\n",
    "    filename = 'X_train' + __DATE\n",
    "    mmwrite(os.path.join(__M_FILE_FOLDER, filename), X_train)\n",
    "    filename = 'pos_train' + __DATE\n",
    "    mmwrite(filename, pos_train)"
   ]
  },
  {
   "cell_type": "code",
   "execution_count": null,
   "metadata": {
    "collapsed": true
   },
   "outputs": [],
   "source": [
    "# Filling test matrix\n",
    "if __LOAD_TRAIN_TEST_MATRIX:\n",
    "    filename = 'X_test' + __TRAIN_TEST_DATE + '.mm'\n",
    "    X_test = mmread(os.path.join(__M_FILE_FOLDER, filename))\n",
    "    filename = 'pos_test' + __TRAIN_TEST_DATE + '.mm'\n",
    "    pos_test = mmread(os.path.join(__M_FILE_FOLDER, filename))\n",
    "else:\n",
    "    ind = 0\n",
    "    for pos, pos_data in df_user_pos[~idx_train].groupby(level=[0,1]):\n",
    "        pos_test[ind, :] = pos\n",
    "\n",
    "        idx = zip(pos_data.userid.values, np.around(pos_data.time.values, 1))\n",
    "        sig_data = df_user_rsr.loc[idx].dropna()\n",
    "\n",
    "        if sig_data.shape[0]:\n",
    "            avg = (pd.concat([sig_data[['cell_id%d'%i,'rsr%d'%i]].rename(columns=rename_dict) for i in xrange(1,21)],\n",
    "                             axis=0, ignore_index=True)\n",
    "                     .groupby('cell_id')\n",
    "                     .rsr.agg(np.nanmean))\n",
    "            X_test[ind, avg.index.values] = avg.values       \n",
    "\n",
    "        ind+=1\n",
    "        if np.mod(ind, 50000)==0:\n",
    "            print ind  \n",
    "\n",
    "    filename = 'X_test' + __DATE\n",
    "    mmwrite(os.path.join(__M_FILE_FOLDER, filename), X_test)\n",
    "    filename = 'pos_test' + __DATE\n",
    "    mmwrite(os.path.join(__M_FILE_FOLDER, filename), pos_test)\n",
    "    \n",
    "    # cleaning before knn\n",
    "    del df_user_rsr\n",
    "    del df_user_pos"
   ]
  },
  {
   "cell_type": "markdown",
   "metadata": {},
   "source": [
    "## KNN itself"
   ]
  },
  {
   "cell_type": "markdown",
   "metadata": {},
   "source": [
    "Ok, there was some error, lets look at least to what we have"
   ]
  },
  {
   "cell_type": "code",
   "execution_count": null,
   "metadata": {
    "collapsed": false
   },
   "outputs": [],
   "source": [
    "# Sklean KNN\n",
    "knn = KNeighborsRegressor(n_neighbors=1, algorithm='brute', \n",
    "                          metric='cosine', n_jobs=-1)\n",
    "knn.fit(X_train, pos_train)\n",
    "pos_pred = np.empty_like(pos_test)"
   ]
  },
  {
   "cell_type": "code",
   "execution_count": null,
   "metadata": {
    "collapsed": true
   },
   "outputs": [],
   "source": [
    "# Not to overfill memory..\n",
    "istep = 10\n",
    "for i in xrange(istep, pos_pred.shape[0], istep):\n",
    "    pos_pred[i-istep:i] = knn.predict(X_test[i-istep:i, :])\n",
    "    \n",
    "if i < pred_idx.shape[0]:\n",
    "    pos_pred[i:] = knn.predict(X_test[i:, :])"
   ]
  },
  {
   "cell_type": "code",
   "execution_count": null,
   "metadata": {
    "collapsed": true
   },
   "outputs": [],
   "source": [
    "filename = 'pos_pred' + __DATE\n",
    "mmwrite(os.path.join(__M_FILE_FOLDER, filename), pos_pred)"
   ]
  },
  {
   "cell_type": "markdown",
   "metadata": {},
   "source": [
    "## Estimate accuracy"
   ]
  },
  {
   "cell_type": "code",
   "execution_count": null,
   "metadata": {
    "collapsed": false
   },
   "outputs": [],
   "source": [
    "err = ((pos_pred - pos_test)**2).sum(axis=1)"
   ]
  },
  {
   "cell_type": "code",
   "execution_count": null,
   "metadata": {
    "collapsed": false
   },
   "outputs": [],
   "source": [
    "bs_mean(err, 10000, 67)"
   ]
  }
 ],
 "metadata": {
  "kernelspec": {
   "display_name": "Python 2",
   "language": "python",
   "name": "python2"
  },
  "language_info": {
   "codemirror_mode": {
    "name": "ipython",
    "version": 2
   },
   "file_extension": ".py",
   "mimetype": "text/x-python",
   "name": "python",
   "nbconvert_exporter": "python",
   "pygments_lexer": "ipython2",
   "version": "2.7.10"
  }
 },
 "nbformat": 4,
 "nbformat_minor": 0
}
