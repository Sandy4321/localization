{
 "cells": [
  {
   "cell_type": "markdown",
   "metadata": {},
   "source": [
    "# Exploring UC1004 dataset"
   ]
  },
  {
   "cell_type": "code",
   "execution_count": 1,
   "metadata": {
    "collapsed": false
   },
   "outputs": [],
   "source": [
    "import sys\n",
    "sys.path.insert(0, './utils/')\n",
    "\n",
    "import geo_conv\n",
    "import sqlite3 as sqlite\n",
    "import pandas as pd\n",
    "import numpy as np\n",
    "import matplotlib.pyplot as plt\n",
    "import scipy.sparse\n",
    "from scipy.io import mmwrite, mmread\n",
    "import scipy.spatial.distance\n",
    "from sklearn.metrics import pairwise_distances\n",
    "from sklearn.neighbors import KNeighborsRegressor\n",
    "from sklearn.cross_validation import train_test_split\n",
    "import folium\n",
    "import datetime\n",
    "import os\n",
    "\n",
    "plt.style.use('ggplot')\n",
    "%matplotlib inline"
   ]
  },
  {
   "cell_type": "markdown",
   "metadata": {},
   "source": [
    "Database schema: network, us_pos, us_signal"
   ]
  },
  {
   "cell_type": "code",
   "execution_count": 6,
   "metadata": {
    "collapsed": false
   },
   "outputs": [],
   "source": [
    "def add_lat_lon(df):\n",
    "    xy = zip(df.x.values, df.y.values)\n",
    "    latlon = map(lambda (coord):geo_conv.convert_GK_to_lat_long(coord[0]+__XMIN, coord[1]+__YMIN), xy)\n",
    "    \n",
    "    if 'lat' not in df.columns:\n",
    "        df = pd.concat([df, \n",
    "                        pd.DataFrame.from_records(latlon, columns=['lat', 'lon'])],\n",
    "                       axis=1)\n",
    "    else:\n",
    "        df[['lat', 'lon']] = pd.DataFrame.from_records(latlon, columns=['lat', 'lon'])\n",
    "        \n",
    "    return df\n",
    "\n",
    "\n",
    "def bs_mean(vector, num_samples, conf):\n",
    "    boot_sample = np.zeros_like(vector)\n",
    "    boot_means = np.zeros((num_samples))\n",
    "    for s in xrange(num_samples):\n",
    "        boot_sample = np.random.choice(vector,\n",
    "                               replace=True)\n",
    "        boot_means[s] = boot_sample.mean()\n",
    "    boot_means.sort()\n",
    "    return np.percentile(boot_means, [(100-conf)/2, (100+conf)/2])"
   ]
  },
  {
   "cell_type": "code",
   "execution_count": 3,
   "metadata": {
    "collapsed": false
   },
   "outputs": [],
   "source": [
    "np.random.seed(1)\n",
    "__CITY_LAT = 52.3667\n",
    "__CITY_LON = 9.7167\n",
    "__XMIN = 4336000\n",
    "__YMIN = 5794000\n",
    "__LOAD_TRAIN_TEST_MATRIX = 0\n",
    "__TRAIN_TEST_DATE = ''\n",
    "__M_FILE_FOLDER = os.path.join('.', 'data', 'uc1004', 'mmfiles')\n",
    "__DATE = '_' + datetime.datetime.now().strftime('%Y-%m-%d_%H-%M-%S')"
   ]
  },
  {
   "cell_type": "code",
   "execution_count": 4,
   "metadata": {
    "collapsed": false
   },
   "outputs": [],
   "source": [
    "# Check if folder with outputs exists\n",
    "if not os.path.exists(__M_FILE_FOLDER):\n",
    "    os.makedirs(__M_FILE_FOLDER)"
   ]
  },
  {
   "cell_type": "code",
   "execution_count": 5,
   "metadata": {
    "collapsed": true
   },
   "outputs": [],
   "source": [
    "# Setting conntection to sqlite db\n",
    "if os.path.exists(os.path.join('.', 'data', 'uc1004', 'uc1004.db')):\n",
    "    conn = sqlite.connect('./data/uc1004/uc1004.db')"
   ]
  },
  {
   "cell_type": "markdown",
   "metadata": {},
   "source": [
    "## Getting Networkd data"
   ]
  },
  {
   "cell_type": "code",
   "execution_count": 23,
   "metadata": {
    "collapsed": false
   },
   "outputs": [
    {
     "data": {
      "text/plain": [
       "(195, 11)"
      ]
     },
     "execution_count": 23,
     "metadata": {},
     "output_type": "execute_result"
    }
   ],
   "source": [
    "# Get Network data file\n",
    "query = 'SELECT * FROM network;'\n",
    "\n",
    "network = pd.read_sql(query, conn)\n",
    "network.shape"
   ]
  },
  {
   "cell_type": "code",
   "execution_count": 24,
   "metadata": {
    "collapsed": false
   },
   "outputs": [
    {
     "data": {
      "text/html": [
       "<div>\n",
       "<table border=\"1\" class=\"dataframe\">\n",
       "  <thead>\n",
       "    <tr style=\"text-align: right;\">\n",
       "      <th></th>\n",
       "      <th>x</th>\n",
       "      <th>y</th>\n",
       "      <th>z</th>\n",
       "      <th>azimuth</th>\n",
       "      <th>tilt</th>\n",
       "      <th>transmit_pwr</th>\n",
       "      <th>type</th>\n",
       "      <th>eirp</th>\n",
       "      <th>bandwidth</th>\n",
       "      <th>centr_freq</th>\n",
       "      <th>lat</th>\n",
       "      <th>lon</th>\n",
       "    </tr>\n",
       "    <tr>\n",
       "      <th>cell_id</th>\n",
       "      <th></th>\n",
       "      <th></th>\n",
       "      <th></th>\n",
       "      <th></th>\n",
       "      <th></th>\n",
       "      <th></th>\n",
       "      <th></th>\n",
       "      <th></th>\n",
       "      <th></th>\n",
       "      <th></th>\n",
       "      <th></th>\n",
       "      <th></th>\n",
       "    </tr>\n",
       "  </thead>\n",
       "  <tbody>\n",
       "    <tr>\n",
       "      <th>1</th>\n",
       "      <td>11980.62</td>\n",
       "      <td>9511.46</td>\n",
       "      <td>18</td>\n",
       "      <td>100</td>\n",
       "      <td>4</td>\n",
       "      <td>46</td>\n",
       "      <td>Kathrein 742212</td>\n",
       "      <td>63.5</td>\n",
       "      <td>10</td>\n",
       "      <td>1810</td>\n",
       "      <td>52.343905</td>\n",
       "      <td>9.767655</td>\n",
       "    </tr>\n",
       "    <tr>\n",
       "      <th>2</th>\n",
       "      <td>11976.05</td>\n",
       "      <td>9511.91</td>\n",
       "      <td>18</td>\n",
       "      <td>220</td>\n",
       "      <td>4</td>\n",
       "      <td>46</td>\n",
       "      <td>Kathrein 742212</td>\n",
       "      <td>63.5</td>\n",
       "      <td>10</td>\n",
       "      <td>1810</td>\n",
       "      <td>52.343908</td>\n",
       "      <td>9.767588</td>\n",
       "    </tr>\n",
       "    <tr>\n",
       "      <th>3</th>\n",
       "      <td>11974.14</td>\n",
       "      <td>9521.92</td>\n",
       "      <td>18</td>\n",
       "      <td>340</td>\n",
       "      <td>4</td>\n",
       "      <td>46</td>\n",
       "      <td>Kathrein 742212</td>\n",
       "      <td>63.5</td>\n",
       "      <td>10</td>\n",
       "      <td>1810</td>\n",
       "      <td>52.343998</td>\n",
       "      <td>9.767555</td>\n",
       "    </tr>\n",
       "    <tr>\n",
       "      <th>4</th>\n",
       "      <td>11327.24</td>\n",
       "      <td>14888.51</td>\n",
       "      <td>25</td>\n",
       "      <td>60</td>\n",
       "      <td>4</td>\n",
       "      <td>46</td>\n",
       "      <td>Kathrein 742212</td>\n",
       "      <td>63.5</td>\n",
       "      <td>10</td>\n",
       "      <td>1810</td>\n",
       "      <td>52.392010</td>\n",
       "      <td>9.755628</td>\n",
       "    </tr>\n",
       "    <tr>\n",
       "      <th>5</th>\n",
       "      <td>11327.24</td>\n",
       "      <td>14888.51</td>\n",
       "      <td>25</td>\n",
       "      <td>180</td>\n",
       "      <td>4</td>\n",
       "      <td>46</td>\n",
       "      <td>Kathrein 742212</td>\n",
       "      <td>63.5</td>\n",
       "      <td>10</td>\n",
       "      <td>1810</td>\n",
       "      <td>52.392010</td>\n",
       "      <td>9.755628</td>\n",
       "    </tr>\n",
       "    <tr>\n",
       "      <th>6</th>\n",
       "      <td>11327.24</td>\n",
       "      <td>14888.51</td>\n",
       "      <td>25</td>\n",
       "      <td>300</td>\n",
       "      <td>4</td>\n",
       "      <td>46</td>\n",
       "      <td>Kathrein 742212</td>\n",
       "      <td>63.5</td>\n",
       "      <td>10</td>\n",
       "      <td>1810</td>\n",
       "      <td>52.392010</td>\n",
       "      <td>9.755628</td>\n",
       "    </tr>\n",
       "    <tr>\n",
       "      <th>7</th>\n",
       "      <td>11874.95</td>\n",
       "      <td>12539.22</td>\n",
       "      <td>29</td>\n",
       "      <td>10</td>\n",
       "      <td>4</td>\n",
       "      <td>46</td>\n",
       "      <td>Kathrein 742212</td>\n",
       "      <td>63.5</td>\n",
       "      <td>10</td>\n",
       "      <td>1810</td>\n",
       "      <td>52.371065</td>\n",
       "      <td>9.764733</td>\n",
       "    </tr>\n",
       "    <tr>\n",
       "      <th>8</th>\n",
       "      <td>11876.16</td>\n",
       "      <td>12536.20</td>\n",
       "      <td>29</td>\n",
       "      <td>130</td>\n",
       "      <td>4</td>\n",
       "      <td>46</td>\n",
       "      <td>Kathrein 742212</td>\n",
       "      <td>63.5</td>\n",
       "      <td>10</td>\n",
       "      <td>1810</td>\n",
       "      <td>52.371039</td>\n",
       "      <td>9.764753</td>\n",
       "    </tr>\n",
       "    <tr>\n",
       "      <th>9</th>\n",
       "      <td>11872.84</td>\n",
       "      <td>12536.20</td>\n",
       "      <td>29</td>\n",
       "      <td>250</td>\n",
       "      <td>4</td>\n",
       "      <td>46</td>\n",
       "      <td>Kathrein 742212</td>\n",
       "      <td>63.5</td>\n",
       "      <td>10</td>\n",
       "      <td>1810</td>\n",
       "      <td>52.371038</td>\n",
       "      <td>9.764704</td>\n",
       "    </tr>\n",
       "    <tr>\n",
       "      <th>10</th>\n",
       "      <td>10684.15</td>\n",
       "      <td>12138.77</td>\n",
       "      <td>19</td>\n",
       "      <td>90</td>\n",
       "      <td>4</td>\n",
       "      <td>46</td>\n",
       "      <td>Kathrein 742212</td>\n",
       "      <td>63.5</td>\n",
       "      <td>10</td>\n",
       "      <td>1810</td>\n",
       "      <td>52.367138</td>\n",
       "      <td>9.747446</td>\n",
       "    </tr>\n",
       "  </tbody>\n",
       "</table>\n",
       "</div>"
      ],
      "text/plain": [
       "                x         y   z  azimuth  tilt  transmit_pwr             type  \\\n",
       "cell_id                                                                         \n",
       "1        11980.62   9511.46  18      100     4            46  Kathrein 742212   \n",
       "2        11976.05   9511.91  18      220     4            46  Kathrein 742212   \n",
       "3        11974.14   9521.92  18      340     4            46  Kathrein 742212   \n",
       "4        11327.24  14888.51  25       60     4            46  Kathrein 742212   \n",
       "5        11327.24  14888.51  25      180     4            46  Kathrein 742212   \n",
       "6        11327.24  14888.51  25      300     4            46  Kathrein 742212   \n",
       "7        11874.95  12539.22  29       10     4            46  Kathrein 742212   \n",
       "8        11876.16  12536.20  29      130     4            46  Kathrein 742212   \n",
       "9        11872.84  12536.20  29      250     4            46  Kathrein 742212   \n",
       "10       10684.15  12138.77  19       90     4            46  Kathrein 742212   \n",
       "\n",
       "         eirp  bandwidth  centr_freq        lat       lon  \n",
       "cell_id                                                    \n",
       "1        63.5         10        1810  52.343905  9.767655  \n",
       "2        63.5         10        1810  52.343908  9.767588  \n",
       "3        63.5         10        1810  52.343998  9.767555  \n",
       "4        63.5         10        1810  52.392010  9.755628  \n",
       "5        63.5         10        1810  52.392010  9.755628  \n",
       "6        63.5         10        1810  52.392010  9.755628  \n",
       "7        63.5         10        1810  52.371065  9.764733  \n",
       "8        63.5         10        1810  52.371039  9.764753  \n",
       "9        63.5         10        1810  52.371038  9.764704  \n",
       "10       63.5         10        1810  52.367138  9.747446  "
      ]
     },
     "execution_count": 24,
     "metadata": {},
     "output_type": "execute_result"
    }
   ],
   "source": [
    "network = add_lat_lon(network)\n",
    "network.set_index('cell_id', inplace=True)\n",
    "network.head(10)"
   ]
  },
  {
   "cell_type": "markdown",
   "metadata": {},
   "source": [
    "## Getting User Position"
   ]
  },
  {
   "cell_type": "markdown",
   "metadata": {},
   "source": [
    "As it goes from the article, users are categorized to:<br\\>\n",
    "Vehicular: 0 ... 4619 <br\\>\n",
    "Pedestrian: 10000 ... 15246<br\\>\n",
    "Static Indoor: 20000 ... 29999"
   ]
  },
  {
   "cell_type": "code",
   "execution_count": 25,
   "metadata": {
    "collapsed": false
   },
   "outputs": [],
   "source": [
    "user_id = 10003\n",
    "query = 'SELECT * FROM us_pos INDEXED BY user_index WHERE userid=%d' % user_id\n",
    "user_pos = pd.read_sql(query, conn)"
   ]
  },
  {
   "cell_type": "code",
   "execution_count": 26,
   "metadata": {
    "collapsed": false
   },
   "outputs": [
    {
     "name": "stdout",
     "output_type": "stream",
     "text": [
      "(14753, 5)\n"
     ]
    },
    {
     "data": {
      "text/html": [
       "<div>\n",
       "<table border=\"1\" class=\"dataframe\">\n",
       "  <thead>\n",
       "    <tr style=\"text-align: right;\">\n",
       "      <th></th>\n",
       "      <th>time</th>\n",
       "      <th>userid</th>\n",
       "      <th>x</th>\n",
       "      <th>y</th>\n",
       "      <th>z</th>\n",
       "    </tr>\n",
       "  </thead>\n",
       "  <tbody>\n",
       "    <tr>\n",
       "      <th>0</th>\n",
       "      <td>0.1</td>\n",
       "      <td>10003</td>\n",
       "      <td>9842.16</td>\n",
       "      <td>14497.20</td>\n",
       "      <td>1.5</td>\n",
       "    </tr>\n",
       "    <tr>\n",
       "      <th>1</th>\n",
       "      <td>0.2</td>\n",
       "      <td>10003</td>\n",
       "      <td>9842.03</td>\n",
       "      <td>14497.23</td>\n",
       "      <td>1.5</td>\n",
       "    </tr>\n",
       "    <tr>\n",
       "      <th>2</th>\n",
       "      <td>0.3</td>\n",
       "      <td>10003</td>\n",
       "      <td>9841.89</td>\n",
       "      <td>14497.27</td>\n",
       "      <td>1.5</td>\n",
       "    </tr>\n",
       "    <tr>\n",
       "      <th>3</th>\n",
       "      <td>0.4</td>\n",
       "      <td>10003</td>\n",
       "      <td>9841.75</td>\n",
       "      <td>14497.30</td>\n",
       "      <td>1.5</td>\n",
       "    </tr>\n",
       "    <tr>\n",
       "      <th>4</th>\n",
       "      <td>0.5</td>\n",
       "      <td>10003</td>\n",
       "      <td>9841.62</td>\n",
       "      <td>14497.33</td>\n",
       "      <td>1.5</td>\n",
       "    </tr>\n",
       "  </tbody>\n",
       "</table>\n",
       "</div>"
      ],
      "text/plain": [
       "   time  userid        x         y    z\n",
       "0   0.1   10003  9842.16  14497.20  1.5\n",
       "1   0.2   10003  9842.03  14497.23  1.5\n",
       "2   0.3   10003  9841.89  14497.27  1.5\n",
       "3   0.4   10003  9841.75  14497.30  1.5\n",
       "4   0.5   10003  9841.62  14497.33  1.5"
      ]
     },
     "execution_count": 26,
     "metadata": {},
     "output_type": "execute_result"
    }
   ],
   "source": [
    "print user_pos.shape\n",
    "user_pos.sort_values('time', inplace=True)\n",
    "user_pos.head()"
   ]
  },
  {
   "cell_type": "code",
   "execution_count": 27,
   "metadata": {
    "collapsed": false
   },
   "outputs": [
    {
     "data": {
      "text/html": [
       "<div>\n",
       "<table border=\"1\" class=\"dataframe\">\n",
       "  <thead>\n",
       "    <tr style=\"text-align: right;\">\n",
       "      <th></th>\n",
       "      <th>time</th>\n",
       "      <th>userid</th>\n",
       "      <th>x</th>\n",
       "      <th>y</th>\n",
       "      <th>z</th>\n",
       "      <th>lat</th>\n",
       "      <th>lon</th>\n",
       "    </tr>\n",
       "  </thead>\n",
       "  <tbody>\n",
       "    <tr>\n",
       "      <th>0</th>\n",
       "      <td>0.1</td>\n",
       "      <td>10003</td>\n",
       "      <td>9842.16</td>\n",
       "      <td>14497.20</td>\n",
       "      <td>1.5</td>\n",
       "      <td>52.388080</td>\n",
       "      <td>9.734010</td>\n",
       "    </tr>\n",
       "    <tr>\n",
       "      <th>1</th>\n",
       "      <td>0.2</td>\n",
       "      <td>10003</td>\n",
       "      <td>9842.03</td>\n",
       "      <td>14497.23</td>\n",
       "      <td>1.5</td>\n",
       "      <td>52.388080</td>\n",
       "      <td>9.734008</td>\n",
       "    </tr>\n",
       "    <tr>\n",
       "      <th>2</th>\n",
       "      <td>0.3</td>\n",
       "      <td>10003</td>\n",
       "      <td>9841.89</td>\n",
       "      <td>14497.27</td>\n",
       "      <td>1.5</td>\n",
       "      <td>52.388080</td>\n",
       "      <td>9.734006</td>\n",
       "    </tr>\n",
       "    <tr>\n",
       "      <th>3</th>\n",
       "      <td>0.4</td>\n",
       "      <td>10003</td>\n",
       "      <td>9841.75</td>\n",
       "      <td>14497.30</td>\n",
       "      <td>1.5</td>\n",
       "      <td>52.388080</td>\n",
       "      <td>9.734004</td>\n",
       "    </tr>\n",
       "    <tr>\n",
       "      <th>4</th>\n",
       "      <td>0.5</td>\n",
       "      <td>10003</td>\n",
       "      <td>9841.62</td>\n",
       "      <td>14497.33</td>\n",
       "      <td>1.5</td>\n",
       "      <td>52.388081</td>\n",
       "      <td>9.734002</td>\n",
       "    </tr>\n",
       "  </tbody>\n",
       "</table>\n",
       "</div>"
      ],
      "text/plain": [
       "   time  userid        x         y    z        lat       lon\n",
       "0   0.1   10003  9842.16  14497.20  1.5  52.388080  9.734010\n",
       "1   0.2   10003  9842.03  14497.23  1.5  52.388080  9.734008\n",
       "2   0.3   10003  9841.89  14497.27  1.5  52.388080  9.734006\n",
       "3   0.4   10003  9841.75  14497.30  1.5  52.388080  9.734004\n",
       "4   0.5   10003  9841.62  14497.33  1.5  52.388081  9.734002"
      ]
     },
     "execution_count": 27,
     "metadata": {},
     "output_type": "execute_result"
    }
   ],
   "source": [
    "# Adding lat, long columns\n",
    "user_pos = add_lat_lon(user_pos)\n",
    "user_pos.head()"
   ]
  },
  {
   "cell_type": "markdown",
   "metadata": {},
   "source": [
    "## Getting User's RSPS"
   ]
  },
  {
   "cell_type": "code",
   "execution_count": 28,
   "metadata": {
    "collapsed": true
   },
   "outputs": [],
   "source": [
    "query = 'SELECT * FROM us_signal INDEXED BY user_index_sig WHERE userid=%d' % user_id\n",
    "user_signals = pd.read_sql(query, conn)"
   ]
  },
  {
   "cell_type": "code",
   "execution_count": 29,
   "metadata": {
    "collapsed": false
   },
   "outputs": [
    {
     "name": "stdout",
     "output_type": "stream",
     "text": [
      "(14753, 42)\n"
     ]
    },
    {
     "data": {
      "text/html": [
       "<div>\n",
       "<table border=\"1\" class=\"dataframe\">\n",
       "  <thead>\n",
       "    <tr style=\"text-align: right;\">\n",
       "      <th></th>\n",
       "      <th>time</th>\n",
       "      <th>userid</th>\n",
       "      <th>cell_id1</th>\n",
       "      <th>rsr1</th>\n",
       "      <th>cell_id2</th>\n",
       "      <th>rsr2</th>\n",
       "      <th>cell_id3</th>\n",
       "      <th>rsr3</th>\n",
       "      <th>cell_id4</th>\n",
       "      <th>rsr4</th>\n",
       "      <th>...</th>\n",
       "      <th>cell_id16</th>\n",
       "      <th>rsr16</th>\n",
       "      <th>cell_id17</th>\n",
       "      <th>rsr17</th>\n",
       "      <th>cell_id18</th>\n",
       "      <th>rsr18</th>\n",
       "      <th>cell_id19</th>\n",
       "      <th>rsr19</th>\n",
       "      <th>cell_id20</th>\n",
       "      <th>rsr20</th>\n",
       "    </tr>\n",
       "  </thead>\n",
       "  <tbody>\n",
       "    <tr>\n",
       "      <th>0</th>\n",
       "      <td>0.1</td>\n",
       "      <td>10003</td>\n",
       "      <td>23</td>\n",
       "      <td>-64.70</td>\n",
       "      <td>138</td>\n",
       "      <td>-65.82</td>\n",
       "      <td>91</td>\n",
       "      <td>-65.90</td>\n",
       "      <td>187</td>\n",
       "      <td>-67.62</td>\n",
       "      <td>...</td>\n",
       "      <td>183</td>\n",
       "      <td>-79.48</td>\n",
       "      <td>21</td>\n",
       "      <td>-81.15</td>\n",
       "      <td>15</td>\n",
       "      <td>-81.61</td>\n",
       "      <td>136</td>\n",
       "      <td>-81.87</td>\n",
       "      <td>140</td>\n",
       "      <td>-81.88</td>\n",
       "    </tr>\n",
       "    <tr>\n",
       "      <th>1</th>\n",
       "      <td>0.2</td>\n",
       "      <td>10003</td>\n",
       "      <td>23</td>\n",
       "      <td>-64.71</td>\n",
       "      <td>138</td>\n",
       "      <td>-65.82</td>\n",
       "      <td>91</td>\n",
       "      <td>-65.91</td>\n",
       "      <td>187</td>\n",
       "      <td>-67.73</td>\n",
       "      <td>...</td>\n",
       "      <td>183</td>\n",
       "      <td>-79.48</td>\n",
       "      <td>21</td>\n",
       "      <td>-81.21</td>\n",
       "      <td>15</td>\n",
       "      <td>-81.65</td>\n",
       "      <td>140</td>\n",
       "      <td>-81.85</td>\n",
       "      <td>136</td>\n",
       "      <td>-81.87</td>\n",
       "    </tr>\n",
       "    <tr>\n",
       "      <th>2</th>\n",
       "      <td>0.3</td>\n",
       "      <td>10003</td>\n",
       "      <td>23</td>\n",
       "      <td>-64.72</td>\n",
       "      <td>91</td>\n",
       "      <td>-65.87</td>\n",
       "      <td>138</td>\n",
       "      <td>-65.88</td>\n",
       "      <td>187</td>\n",
       "      <td>-67.78</td>\n",
       "      <td>...</td>\n",
       "      <td>183</td>\n",
       "      <td>-79.48</td>\n",
       "      <td>21</td>\n",
       "      <td>-81.23</td>\n",
       "      <td>15</td>\n",
       "      <td>-81.66</td>\n",
       "      <td>140</td>\n",
       "      <td>-81.86</td>\n",
       "      <td>136</td>\n",
       "      <td>-81.92</td>\n",
       "    </tr>\n",
       "    <tr>\n",
       "      <th>3</th>\n",
       "      <td>0.4</td>\n",
       "      <td>10003</td>\n",
       "      <td>23</td>\n",
       "      <td>-64.72</td>\n",
       "      <td>91</td>\n",
       "      <td>-65.87</td>\n",
       "      <td>138</td>\n",
       "      <td>-65.87</td>\n",
       "      <td>187</td>\n",
       "      <td>-67.83</td>\n",
       "      <td>...</td>\n",
       "      <td>183</td>\n",
       "      <td>-79.49</td>\n",
       "      <td>21</td>\n",
       "      <td>-81.26</td>\n",
       "      <td>15</td>\n",
       "      <td>-81.69</td>\n",
       "      <td>140</td>\n",
       "      <td>-81.84</td>\n",
       "      <td>136</td>\n",
       "      <td>-81.92</td>\n",
       "    </tr>\n",
       "    <tr>\n",
       "      <th>4</th>\n",
       "      <td>0.5</td>\n",
       "      <td>10003</td>\n",
       "      <td>23</td>\n",
       "      <td>-64.72</td>\n",
       "      <td>91</td>\n",
       "      <td>-65.87</td>\n",
       "      <td>138</td>\n",
       "      <td>-65.87</td>\n",
       "      <td>187</td>\n",
       "      <td>-67.93</td>\n",
       "      <td>...</td>\n",
       "      <td>183</td>\n",
       "      <td>-79.49</td>\n",
       "      <td>21</td>\n",
       "      <td>-81.31</td>\n",
       "      <td>15</td>\n",
       "      <td>-81.73</td>\n",
       "      <td>140</td>\n",
       "      <td>-81.82</td>\n",
       "      <td>136</td>\n",
       "      <td>-81.92</td>\n",
       "    </tr>\n",
       "  </tbody>\n",
       "</table>\n",
       "<p>5 rows × 42 columns</p>\n",
       "</div>"
      ],
      "text/plain": [
       "   time  userid  cell_id1   rsr1  cell_id2   rsr2  cell_id3   rsr3  cell_id4  \\\n",
       "0   0.1   10003        23 -64.70       138 -65.82        91 -65.90       187   \n",
       "1   0.2   10003        23 -64.71       138 -65.82        91 -65.91       187   \n",
       "2   0.3   10003        23 -64.72        91 -65.87       138 -65.88       187   \n",
       "3   0.4   10003        23 -64.72        91 -65.87       138 -65.87       187   \n",
       "4   0.5   10003        23 -64.72        91 -65.87       138 -65.87       187   \n",
       "\n",
       "    rsr4  ...    cell_id16  rsr16  cell_id17  rsr17  cell_id18  rsr18  \\\n",
       "0 -67.62  ...          183 -79.48         21 -81.15         15 -81.61   \n",
       "1 -67.73  ...          183 -79.48         21 -81.21         15 -81.65   \n",
       "2 -67.78  ...          183 -79.48         21 -81.23         15 -81.66   \n",
       "3 -67.83  ...          183 -79.49         21 -81.26         15 -81.69   \n",
       "4 -67.93  ...          183 -79.49         21 -81.31         15 -81.73   \n",
       "\n",
       "   cell_id19  rsr19  cell_id20  rsr20  \n",
       "0        136 -81.87        140 -81.88  \n",
       "1        140 -81.85        136 -81.87  \n",
       "2        140 -81.86        136 -81.92  \n",
       "3        140 -81.84        136 -81.92  \n",
       "4        140 -81.82        136 -81.92  \n",
       "\n",
       "[5 rows x 42 columns]"
      ]
     },
     "execution_count": 29,
     "metadata": {},
     "output_type": "execute_result"
    }
   ],
   "source": [
    "print user_signals.shape\n",
    "user_signals.sort_values('time', inplace=True)\n",
    "user_signals.head()"
   ]
  },
  {
   "cell_type": "code",
   "execution_count": 30,
   "metadata": {
    "collapsed": false
   },
   "outputs": [],
   "source": [
    "# Identify cell set for user\n",
    "cell_id_cols = range(2, 42, 2)\n",
    "cell_ids = np.unique(user_signals.iloc[:, cell_id_cols].values.astype(int))"
   ]
  },
  {
   "cell_type": "markdown",
   "metadata": {},
   "source": [
    "## Plotting Maps From Dataset"
   ]
  },
  {
   "cell_type": "markdown",
   "metadata": {},
   "source": [
    "### Land-case map"
   ]
  },
  {
   "cell_type": "code",
   "execution_count": null,
   "metadata": {
    "collapsed": false
   },
   "outputs": [],
   "source": [
    "# Land-case map\n",
    "use_map = np.genfromtxt('./data/uc1004/Land_Use_Map.csv', delimiter=';')"
   ]
  },
  {
   "cell_type": "code",
   "execution_count": null,
   "metadata": {
    "collapsed": false
   },
   "outputs": [],
   "source": [
    "print use_map.shape # It differes from info in the article\n",
    "print np.unique(use_map)"
   ]
  },
  {
   "cell_type": "code",
   "execution_count": null,
   "metadata": {
    "collapsed": true
   },
   "outputs": [],
   "source": [
    "# .T to have refference with pics in the article\n",
    "# But map shoulb be rotated by 90 degrees (according to google maps)\n",
    "# Moreover, the map in data is not the same as in the article..\n",
    "# fig = plt.figure(figsize=(10, 20))\n",
    "# plt.imshow(use_map.T, cmap='flag')"
   ]
  },
  {
   "cell_type": "code",
   "execution_count": null,
   "metadata": {
    "collapsed": true
   },
   "outputs": [],
   "source": [
    "use_map = np.rot90(use_map)"
   ]
  },
  {
   "cell_type": "code",
   "execution_count": null,
   "metadata": {
    "collapsed": false
   },
   "outputs": [],
   "source": [
    "fig = plt.figure(figsize=(10, 20))\n",
    "plt.imshow(use_map, cmap='flag')"
   ]
  },
  {
   "cell_type": "markdown",
   "metadata": {},
   "source": [
    "### Best server map"
   ]
  },
  {
   "cell_type": "code",
   "execution_count": null,
   "metadata": {
    "collapsed": true
   },
   "outputs": [],
   "source": [
    "best_server = np.genfromtxt('./data/uc1004/Best_Server_Map.csv', delimiter=';')"
   ]
  },
  {
   "cell_type": "code",
   "execution_count": null,
   "metadata": {
    "collapsed": false
   },
   "outputs": [],
   "source": [
    "print best_server.shape # It differes from info in the article\n",
    "print np.unique(best_server) # should be at least = to # of cells"
   ]
  },
  {
   "cell_type": "code",
   "execution_count": null,
   "metadata": {
    "collapsed": true
   },
   "outputs": [],
   "source": [
    "best_server = np.rot90(best_server)"
   ]
  },
  {
   "cell_type": "code",
   "execution_count": null,
   "metadata": {
    "collapsed": false
   },
   "outputs": [],
   "source": [
    "fig = plt.figure(figsize=(10, 20))\n",
    "plt.imshow(best_server, cmap='flag')"
   ]
  },
  {
   "cell_type": "markdown",
   "metadata": {},
   "source": [
    "## Generating map with user route and cell positions"
   ]
  },
  {
   "cell_type": "code",
   "execution_count": null,
   "metadata": {
    "collapsed": false
   },
   "outputs": [],
   "source": [
    "map_hannover = folium.Map(location=[__CITY_LAT, __CITY_LON], \n",
    "                          zoom_start=15)\n",
    "map_hannover.line(locations=user_pos[['lat', 'lon']].values,\n",
    "                  line_opacity=0.5, \n",
    "                  popup=('user: ' + str(user_id)))\n",
    "for cid in cell_ids:\n",
    "    cell = network.loc[cid]\n",
    "    map_hannover.polygon_marker(location=[cell.lat, cell.lon],\n",
    "                                num_sides=3,\n",
    "                                radius=5,\n",
    "                                rotation=cell.azimuth,\n",
    "                                popup='cell_id: ' + str(cid) + '\\nazimuth: ' + str(cell.azimuth))\n",
    "\n",
    "map_hannover.create_map(path='./data/uc1004/map.html')"
   ]
  },
  {
   "cell_type": "markdown",
   "metadata": {},
   "source": [
    "## Generating map with all cells"
   ]
  },
  {
   "cell_type": "code",
   "execution_count": 61,
   "metadata": {
    "collapsed": false
   },
   "outputs": [],
   "source": [
    "map_hannover = folium.Map(location=[__CITY_LAT, __CITY_LON], \n",
    "                          zoom_start=15)\n",
    "map_hannover.line(locations=user_pos[['lat', 'lon']].values,\n",
    "                  line_opacity=0.5, \n",
    "                  popup=('user: ' + str(user_id)))\n",
    "for index, cell in network.iterrows():\n",
    "    map_hannover.polygon_marker(location=[cell.lat, cell.lon],\n",
    "                                num_sides=3,\n",
    "                                radius=5,\n",
    "                                rotation=cell.azimuth,\n",
    "                                popup='cell_id: ' + str(index) + '\\nazimuth: ' + str(cell.azimuth))\n",
    "\n",
    "map_hannover.create_map(path='./data/uc1004/cells.html')"
   ]
  },
  {
   "cell_type": "markdown",
   "metadata": {},
   "source": [
    "## Looking at RSS"
   ]
  },
  {
   "cell_type": "code",
   "execution_count": 31,
   "metadata": {
    "collapsed": false
   },
   "outputs": [
    {
     "data": {
      "text/html": [
       "<div>\n",
       "<table border=\"1\" class=\"dataframe\">\n",
       "  <thead>\n",
       "    <tr style=\"text-align: right;\">\n",
       "      <th></th>\n",
       "      <th></th>\n",
       "      <th>cell_order</th>\n",
       "      <th>userid</th>\n",
       "      <th>rsr</th>\n",
       "    </tr>\n",
       "    <tr>\n",
       "      <th>cell_id</th>\n",
       "      <th>time</th>\n",
       "      <th></th>\n",
       "      <th></th>\n",
       "      <th></th>\n",
       "    </tr>\n",
       "  </thead>\n",
       "  <tbody>\n",
       "    <tr>\n",
       "      <th rowspan=\"5\" valign=\"top\">6</th>\n",
       "      <th>0.6</th>\n",
       "      <td>20</td>\n",
       "      <td>10003</td>\n",
       "      <td>-81.92</td>\n",
       "    </tr>\n",
       "    <tr>\n",
       "      <th>0.7</th>\n",
       "      <td>20</td>\n",
       "      <td>10003</td>\n",
       "      <td>-81.92</td>\n",
       "    </tr>\n",
       "    <tr>\n",
       "      <th>0.8</th>\n",
       "      <td>20</td>\n",
       "      <td>10003</td>\n",
       "      <td>-81.92</td>\n",
       "    </tr>\n",
       "    <tr>\n",
       "      <th>0.9</th>\n",
       "      <td>20</td>\n",
       "      <td>10003</td>\n",
       "      <td>-81.92</td>\n",
       "    </tr>\n",
       "    <tr>\n",
       "      <th>1.0</th>\n",
       "      <td>20</td>\n",
       "      <td>10003</td>\n",
       "      <td>-81.92</td>\n",
       "    </tr>\n",
       "  </tbody>\n",
       "</table>\n",
       "</div>"
      ],
      "text/plain": [
       "              cell_order  userid    rsr\n",
       "cell_id time                           \n",
       "6       0.6           20   10003 -81.92\n",
       "        0.7           20   10003 -81.92\n",
       "        0.8           20   10003 -81.92\n",
       "        0.9           20   10003 -81.92\n",
       "        1.0           20   10003 -81.92"
      ]
     },
     "execution_count": 31,
     "metadata": {},
     "output_type": "execute_result"
    }
   ],
   "source": [
    "signals_long = (pd.wide_to_long(user_signals, ['cell_id', 'rsr'], i='time', j='cell_order')\n",
    "                  .reset_index()\n",
    "                  .set_index(['cell_id', 'time'])\n",
    "                  .sort_index(level=0))\n",
    "signals_long.head()"
   ]
  },
  {
   "cell_type": "code",
   "execution_count": 32,
   "metadata": {
    "collapsed": false
   },
   "outputs": [
    {
     "data": {
      "text/plain": [
       "<matplotlib.text.Text at 0x7fa618cbc350>"
      ]
     },
     "execution_count": 32,
     "metadata": {},
     "output_type": "execute_result"
    },
    {
     "data": {
      "image/png": "[encoded data removed]",
      "text/plain": [
       "<matplotlib.figure.Figure at 0x7fa622d25950>"
      ]
     },
     "metadata": {},
     "output_type": "display_data"
    }
   ],
   "source": [
    "cell_id = 6\n",
    "signals_long.loc[cell_id].plot(y='rsr'\n",
    "                              )\n",
    "fig = plt.gcf()\n",
    "fig.set_size_inches(20,10)\n",
    "plt.ylabel('RSR')\n",
    "plt.xlabel('time')"
   ]
  },
  {
   "cell_type": "markdown",
   "metadata": {},
   "source": [
    "## Plotting Distance vs RSR"
   ]
  },
  {
   "cell_type": "code",
   "execution_count": 53,
   "metadata": {
    "collapsed": true
   },
   "outputs": [],
   "source": [
    "# Picking cell and its RSR\n",
    "cell_id = 91\n",
    "cell_ss = signals_long.loc[cell_id].reset_index(drop=False)\n",
    "\n",
    "# Considering only cases when it is in top-2 of RSR rating\n",
    "cell_ss = cell_ss[cell_ss.cell_order <= 3]\n",
    "\n",
    "# Cell info\n",
    "cell_info = network.loc[cell_id]\n",
    "user_dist = np.sqrt((user_pos.x - cell_info.x)**2 + (user_pos.y - cell_info.y)**2)\n",
    "\n",
    "# Considering relevant timestamps\n",
    "idx = user_pos.time.isin(cell_ss.time)\n",
    "user_dist = user_dist.ix[idx]"
   ]
  },
  {
   "cell_type": "code",
   "execution_count": 54,
   "metadata": {
    "collapsed": false
   },
   "outputs": [
    {
     "data": {
      "text/plain": [
       "<matplotlib.text.Text at 0x7fa61898f6d0>"
      ]
     },
     "execution_count": 54,
     "metadata": {},
     "output_type": "execute_result"
    },
    {
     "data": {
      "image/png": "[encoded data removed]",
      "text/plain": [
       "<matplotlib.figure.Figure at 0x7fa6189abcd0>"
      ]
     },
     "metadata": {},
     "output_type": "display_data"
    }
   ],
   "source": [
    "# Plotting\n",
    "\n",
    "fig = plt.figure(figsize=(20,10))\n",
    "plt.plot(user_dist, cell_ss.rsr, '.')\n",
    "plt.xlabel('Distance to user %d' % user_id)\n",
    "plt.ylabel('RSR from cell %d' % cell_id)\n",
    "# plt.xlim((200,300))"
   ]
  },
  {
   "cell_type": "markdown",
   "metadata": {
    "collapsed": true
   },
   "source": [
    "# k-NN baseline"
   ]
  },
  {
   "cell_type": "markdown",
   "metadata": {},
   "source": [
    "### Train\\test first look"
   ]
  },
  {
   "cell_type": "markdown",
   "metadata": {},
   "source": [
    "Picking first 1000 users' positions and their rsr <br/>\n",
    "First 500 going to training set. Others - to test <br/>\n",
    "Distance measure - cosine distance"
   ]
  },
  {
   "cell_type": "code",
   "execution_count": 6,
   "metadata": {
    "collapsed": false
   },
   "outputs": [],
   "source": [
    "# # So slow..\n",
    "# query = '''SELECT * FROM us_pos INDEXED BY user_index \n",
    "#            WHERE userid >= 0 AND userid <= 999;'''\n",
    "\n",
    "# chunker = pd.read_sql(query, conn, chunksize=10**5)\n",
    "# df_user_pos = pd.DataFrame()\n",
    "# for chunk in chunker:\n",
    "#     df_user_pos = df_user_pos.append(chunk)\n",
    "\n",
    "\n",
    "# Export to csv is still slow, but import is rather fast..\n",
    "col_types = {'time': np.dtype(float),\n",
    "             'userid': np.dtype(int),\n",
    "             'x': np.dtype(float),\n",
    "             'y': np.dtype(float)}\n",
    "\n",
    "df_user_pos = pd.read_csv('./data/uc1004/us_pos_exper.csv', \n",
    "                          header=0,\n",
    "                          dtype=col_types,\n",
    "                          usecols=col_types.keys())"
   ]
  },
  {
   "cell_type": "code",
   "execution_count": 7,
   "metadata": {
    "collapsed": false
   },
   "outputs": [
    {
     "data": {
      "text/plain": [
       "(5435392, 4)"
      ]
     },
     "execution_count": 7,
     "metadata": {},
     "output_type": "execute_result"
    }
   ],
   "source": [
    "# I have a strong feeling, that my computer's memory will be overfilled...\n",
    "df_user_pos.shape"
   ]
  },
  {
   "cell_type": "code",
   "execution_count": 8,
   "metadata": {
    "collapsed": false
   },
   "outputs": [],
   "source": [
    "# # So Slow..\n",
    "# query = '''SELECT * FROM us_signal INDEXED BY user_index_sig \n",
    "#            WHERE userid >= 0 AND userid <= 999;'''\n",
    "\n",
    "# chunker = pd.read_sql(query, conn, chunksize=10**5)\n",
    "# for chunk in chunker:\n",
    "#     df_user_rsr = df_user_rsr.append(chunk)\n",
    "# df_user_rsr.shape\n",
    "\n",
    "# # Manual transform to long format:\n",
    "# fout = open('./data/uc1004/us_sig_long.csv', 'w')\n",
    "# with open('./data/uc1004/us_sig_exper.csv', 'r') as fin:\n",
    "#     fin.readline() # skip header line\n",
    "#     fout.write('time,userid,cellid,cell_order,rsr\\n')\n",
    "#     for line in fin:\n",
    "#         line = line.split(',')\n",
    "#         time = line[0]\n",
    "#         userid = line[1]\n",
    "#         for order in xrange(1,21):\n",
    "#             cellid = line[2+2*(order-1)]\n",
    "#             rsr = line[1+2*(order)]\n",
    "#             fout.write('%s,%s,%s,%s,%s\\n' % (time, userid, cellid, order, rsr))\n",
    "# fout.close()\n",
    "\n",
    "# # Overflow...\n",
    "# # Exportin long format\n",
    "# col_types = {'time': np.dtype(float),\n",
    "#              'userid': np.dtype(int),\n",
    "#              'cellid': np.dtype(int),\n",
    "#              'order': np.dtype(int),\n",
    "#              'rsr': np.dtype(float)}\n",
    "    \n",
    "# df_user_rsr = pd.read_csv('./data/uc1004/us_sig_long.csv', \n",
    "#                           header=0,\n",
    "#                           dtype=col_types)\n",
    "\n",
    "# The only reasonably fast method and \n",
    "# memory-save method\n",
    "col_types = {'time': np.dtype(float),\n",
    "             'userid': np.dtype(int)}\n",
    "for i in xrange(1, 21):\n",
    "    col_types['cell_id%d' % i] = np.dtype(int)\n",
    "    col_types['rsr%d' % i] = np.dtype(float)\n",
    "    \n",
    "df_user_rsr = pd.read_csv('./data/uc1004/us_sig_exper.csv', \n",
    "                          header=0,\n",
    "                          dtype=col_types)"
   ]
  },
  {
   "cell_type": "code",
   "execution_count": 9,
   "metadata": {
    "collapsed": false
   },
   "outputs": [
    {
     "data": {
      "text/plain": [
       "(5435392, 40)"
      ]
     },
     "execution_count": 9,
     "metadata": {},
     "output_type": "execute_result"
    }
   ],
   "source": [
    "df_user_rsr.set_index(['userid', 'time'], inplace=True)\n",
    "df_user_rsr.shape"
   ]
  },
  {
   "cell_type": "code",
   "execution_count": 10,
   "metadata": {
    "collapsed": false
   },
   "outputs": [],
   "source": [
    "# Lets look at the roots in train\\test\n",
    "df_user_pos.set_index('userid',  inplace=True)"
   ]
  },
  {
   "cell_type": "code",
   "execution_count": 7,
   "metadata": {
    "collapsed": true
   },
   "outputs": [
    {
     "ename": "KeyboardInterrupt",
     "evalue": "",
     "output_type": "error",
     "traceback": [
      "\u001b[1;31m---------------------------------------------------------------------------\u001b[0m",
      "\u001b[1;31mKeyboardInterrupt\u001b[0m                         Traceback (most recent call last)",
      "\u001b[1;32m<ipython-input-7-ccb0705da77d>\u001b[0m in \u001b[0;36m<module>\u001b[1;34m()\u001b[0m\n\u001b[0;32m      3\u001b[0m \u001b[1;33m\u001b[0m\u001b[0m\n\u001b[0;32m      4\u001b[0m \u001b[1;32mfor\u001b[0m \u001b[0mindex\u001b[0m\u001b[1;33m,\u001b[0m \u001b[0muser_data\u001b[0m \u001b[1;32min\u001b[0m \u001b[0mdf_user_pos\u001b[0m\u001b[1;33m.\u001b[0m\u001b[0mgroupby\u001b[0m\u001b[1;33m(\u001b[0m\u001b[0mlevel\u001b[0m\u001b[1;33m=\u001b[0m\u001b[1;36m0\u001b[0m\u001b[1;33m)\u001b[0m\u001b[1;33m:\u001b[0m\u001b[1;33m\u001b[0m\u001b[0m\n\u001b[1;32m----> 5\u001b[1;33m     \u001b[0muser_data\u001b[0m \u001b[1;33m=\u001b[0m \u001b[0madd_lat_lon\u001b[0m\u001b[1;33m(\u001b[0m\u001b[0muser_data\u001b[0m\u001b[1;33m.\u001b[0m\u001b[0mreset_index\u001b[0m\u001b[1;33m(\u001b[0m\u001b[1;33m)\u001b[0m\u001b[1;33m)\u001b[0m\u001b[1;33m\u001b[0m\u001b[0m\n\u001b[0m\u001b[0;32m      6\u001b[0m     \u001b[0muser_data\u001b[0m\u001b[1;33m.\u001b[0m\u001b[0msort_values\u001b[0m\u001b[1;33m(\u001b[0m\u001b[1;34m'time'\u001b[0m\u001b[1;33m,\u001b[0m \u001b[0minplace\u001b[0m\u001b[1;33m=\u001b[0m\u001b[0mTrue\u001b[0m\u001b[1;33m)\u001b[0m\u001b[1;33m\u001b[0m\u001b[0m\n\u001b[0;32m      7\u001b[0m     \u001b[1;32mif\u001b[0m \u001b[0mindex\u001b[0m \u001b[1;33m<\u001b[0m \u001b[1;36m500\u001b[0m\u001b[1;33m:\u001b[0m\u001b[1;33m\u001b[0m\u001b[0m\n",
      "\u001b[1;32m<ipython-input-2-b8931a806124>\u001b[0m in \u001b[0;36madd_lat_lon\u001b[1;34m(df)\u001b[0m\n\u001b[0;32m      6\u001b[0m         df = pd.concat([df, \n\u001b[0;32m      7\u001b[0m                         pd.DataFrame.from_records(latlon, columns=['lat', 'lon'])],\n\u001b[1;32m----> 8\u001b[1;33m                        axis=1)\n\u001b[0m\u001b[0;32m      9\u001b[0m     \u001b[1;32melse\u001b[0m\u001b[1;33m:\u001b[0m\u001b[1;33m\u001b[0m\u001b[0m\n\u001b[0;32m     10\u001b[0m         \u001b[0mdf\u001b[0m\u001b[1;33m[\u001b[0m\u001b[1;33m[\u001b[0m\u001b[1;34m'lat'\u001b[0m\u001b[1;33m,\u001b[0m \u001b[1;34m'lon'\u001b[0m\u001b[1;33m]\u001b[0m\u001b[1;33m]\u001b[0m \u001b[1;33m=\u001b[0m \u001b[0mpd\u001b[0m\u001b[1;33m.\u001b[0m\u001b[0mDataFrame\u001b[0m\u001b[1;33m.\u001b[0m\u001b[0mfrom_records\u001b[0m\u001b[1;33m(\u001b[0m\u001b[0mlatlon\u001b[0m\u001b[1;33m,\u001b[0m \u001b[0mcolumns\u001b[0m\u001b[1;33m=\u001b[0m\u001b[1;33m[\u001b[0m\u001b[1;34m'lat'\u001b[0m\u001b[1;33m,\u001b[0m \u001b[1;34m'lon'\u001b[0m\u001b[1;33m]\u001b[0m\u001b[1;33m)\u001b[0m\u001b[1;33m\u001b[0m\u001b[0m\n",
      "\u001b[1;32m/home/shestakoff/anaconda/lib/python2.7/site-packages/pandas/tools/merge.pyc\u001b[0m in \u001b[0;36mconcat\u001b[1;34m(objs, axis, join, join_axes, ignore_index, keys, levels, names, verify_integrity, copy)\u001b[0m\n\u001b[0;32m    807\u001b[0m                        \u001b[0mkeys\u001b[0m\u001b[1;33m=\u001b[0m\u001b[0mkeys\u001b[0m\u001b[1;33m,\u001b[0m \u001b[0mlevels\u001b[0m\u001b[1;33m=\u001b[0m\u001b[0mlevels\u001b[0m\u001b[1;33m,\u001b[0m \u001b[0mnames\u001b[0m\u001b[1;33m=\u001b[0m\u001b[0mnames\u001b[0m\u001b[1;33m,\u001b[0m\u001b[1;33m\u001b[0m\u001b[0m\n\u001b[0;32m    808\u001b[0m                        \u001b[0mverify_integrity\u001b[0m\u001b[1;33m=\u001b[0m\u001b[0mverify_integrity\u001b[0m\u001b[1;33m,\u001b[0m\u001b[1;33m\u001b[0m\u001b[0m\n\u001b[1;32m--> 809\u001b[1;33m                        copy=copy)\n\u001b[0m\u001b[0;32m    810\u001b[0m     \u001b[1;32mreturn\u001b[0m \u001b[0mop\u001b[0m\u001b[1;33m.\u001b[0m\u001b[0mget_result\u001b[0m\u001b[1;33m(\u001b[0m\u001b[1;33m)\u001b[0m\u001b[1;33m\u001b[0m\u001b[0m\n\u001b[0;32m    811\u001b[0m \u001b[1;33m\u001b[0m\u001b[0m\n",
      "\u001b[1;32m/home/shestakoff/anaconda/lib/python2.7/site-packages/pandas/tools/merge.pyc\u001b[0m in \u001b[0;36m__init__\u001b[1;34m(self, objs, axis, join, join_axes, keys, levels, names, ignore_index, verify_integrity, copy)\u001b[0m\n\u001b[0;32m    883\u001b[0m             \u001b[1;31m# filter out the empties\u001b[0m\u001b[1;33m\u001b[0m\u001b[1;33m\u001b[0m\u001b[0m\n\u001b[0;32m    884\u001b[0m             \u001b[1;31m# if we have not multi-index possibiltes\u001b[0m\u001b[1;33m\u001b[0m\u001b[1;33m\u001b[0m\u001b[0m\n\u001b[1;32m--> 885\u001b[1;33m             \u001b[0mdf\u001b[0m \u001b[1;33m=\u001b[0m \u001b[0mDataFrame\u001b[0m\u001b[1;33m(\u001b[0m\u001b[1;33m[\u001b[0m \u001b[0mobj\u001b[0m\u001b[1;33m.\u001b[0m\u001b[0mshape\u001b[0m \u001b[1;32mfor\u001b[0m \u001b[0mobj\u001b[0m \u001b[1;32min\u001b[0m \u001b[0mobjs\u001b[0m \u001b[1;33m]\u001b[0m\u001b[1;33m)\u001b[0m\u001b[1;33m.\u001b[0m\u001b[0msum\u001b[0m\u001b[1;33m(\u001b[0m\u001b[1;36m1\u001b[0m\u001b[1;33m)\u001b[0m\u001b[1;33m\u001b[0m\u001b[0m\n\u001b[0m\u001b[0;32m    886\u001b[0m             \u001b[0mnon_empties\u001b[0m \u001b[1;33m=\u001b[0m \u001b[0mdf\u001b[0m\u001b[1;33m[\u001b[0m\u001b[0mdf\u001b[0m\u001b[1;33m!=\u001b[0m\u001b[1;36m0\u001b[0m\u001b[1;33m]\u001b[0m\u001b[1;33m\u001b[0m\u001b[0m\n\u001b[0;32m    887\u001b[0m             \u001b[1;32mif\u001b[0m \u001b[0mlen\u001b[0m\u001b[1;33m(\u001b[0m\u001b[0mnon_empties\u001b[0m\u001b[1;33m)\u001b[0m \u001b[1;32mand\u001b[0m \u001b[1;33m(\u001b[0m\u001b[0mkeys\u001b[0m \u001b[1;32mis\u001b[0m \u001b[0mNone\u001b[0m \u001b[1;32mand\u001b[0m \u001b[0mnames\u001b[0m \u001b[1;32mis\u001b[0m \u001b[0mNone\u001b[0m \u001b[1;32mand\u001b[0m \u001b[0mlevels\u001b[0m \u001b[1;32mis\u001b[0m \u001b[0mNone\u001b[0m \u001b[1;32mand\u001b[0m \u001b[0mjoin_axes\u001b[0m \u001b[1;32mis\u001b[0m \u001b[0mNone\u001b[0m\u001b[1;33m)\u001b[0m\u001b[1;33m:\u001b[0m\u001b[1;33m\u001b[0m\u001b[0m\n",
      "\u001b[1;32m/home/shestakoff/anaconda/lib/python2.7/site-packages/pandas/core/frame.pyc\u001b[0m in \u001b[0;36m__init__\u001b[1;34m(self, data, index, columns, dtype, copy)\u001b[0m\n\u001b[0;32m    275\u001b[0m \u001b[1;33m\u001b[0m\u001b[0m\n\u001b[0;32m    276\u001b[0m                     mgr = _arrays_to_mgr(arrays, columns, index, columns,\n\u001b[1;32m--> 277\u001b[1;33m                                          dtype=dtype)\n\u001b[0m\u001b[0;32m    278\u001b[0m                 \u001b[1;32melse\u001b[0m\u001b[1;33m:\u001b[0m\u001b[1;33m\u001b[0m\u001b[0m\n\u001b[0;32m    279\u001b[0m                     mgr = self._init_ndarray(data, index, columns, dtype=dtype,\n",
      "\u001b[1;32m/home/shestakoff/anaconda/lib/python2.7/site-packages/pandas/core/frame.pyc\u001b[0m in \u001b[0;36m_arrays_to_mgr\u001b[1;34m(arrays, arr_names, index, columns, dtype)\u001b[0m\n\u001b[0;32m   5100\u001b[0m     \u001b[0maxes\u001b[0m \u001b[1;33m=\u001b[0m \u001b[1;33m[\u001b[0m\u001b[0m_ensure_index\u001b[0m\u001b[1;33m(\u001b[0m\u001b[0mcolumns\u001b[0m\u001b[1;33m)\u001b[0m\u001b[1;33m,\u001b[0m \u001b[0m_ensure_index\u001b[0m\u001b[1;33m(\u001b[0m\u001b[0mindex\u001b[0m\u001b[1;33m)\u001b[0m\u001b[1;33m]\u001b[0m\u001b[1;33m\u001b[0m\u001b[0m\n\u001b[0;32m   5101\u001b[0m \u001b[1;33m\u001b[0m\u001b[0m\n\u001b[1;32m-> 5102\u001b[1;33m     \u001b[1;32mreturn\u001b[0m \u001b[0mcreate_block_manager_from_arrays\u001b[0m\u001b[1;33m(\u001b[0m\u001b[0marrays\u001b[0m\u001b[1;33m,\u001b[0m \u001b[0marr_names\u001b[0m\u001b[1;33m,\u001b[0m \u001b[0maxes\u001b[0m\u001b[1;33m)\u001b[0m\u001b[1;33m\u001b[0m\u001b[0m\n\u001b[0m\u001b[0;32m   5103\u001b[0m \u001b[1;33m\u001b[0m\u001b[0m\n\u001b[0;32m   5104\u001b[0m \u001b[1;33m\u001b[0m\u001b[0m\n",
      "\u001b[1;32m/home/shestakoff/anaconda/lib/python2.7/site-packages/pandas/core/internals.pyc\u001b[0m in \u001b[0;36mcreate_block_manager_from_arrays\u001b[1;34m(arrays, names, axes)\u001b[0m\n\u001b[0;32m   3798\u001b[0m \u001b[1;33m\u001b[0m\u001b[0m\n\u001b[0;32m   3799\u001b[0m     \u001b[1;32mtry\u001b[0m\u001b[1;33m:\u001b[0m\u001b[1;33m\u001b[0m\u001b[0m\n\u001b[1;32m-> 3800\u001b[1;33m         \u001b[0mblocks\u001b[0m \u001b[1;33m=\u001b[0m \u001b[0mform_blocks\u001b[0m\u001b[1;33m(\u001b[0m\u001b[0marrays\u001b[0m\u001b[1;33m,\u001b[0m \u001b[0mnames\u001b[0m\u001b[1;33m,\u001b[0m \u001b[0maxes\u001b[0m\u001b[1;33m)\u001b[0m\u001b[1;33m\u001b[0m\u001b[0m\n\u001b[0m\u001b[0;32m   3801\u001b[0m         \u001b[0mmgr\u001b[0m \u001b[1;33m=\u001b[0m \u001b[0mBlockManager\u001b[0m\u001b[1;33m(\u001b[0m\u001b[0mblocks\u001b[0m\u001b[1;33m,\u001b[0m \u001b[0maxes\u001b[0m\u001b[1;33m)\u001b[0m\u001b[1;33m\u001b[0m\u001b[0m\n\u001b[0;32m   3802\u001b[0m         \u001b[0mmgr\u001b[0m\u001b[1;33m.\u001b[0m\u001b[0m_consolidate_inplace\u001b[0m\u001b[1;33m(\u001b[0m\u001b[1;33m)\u001b[0m\u001b[1;33m\u001b[0m\u001b[0m\n",
      "\u001b[1;32m/home/shestakoff/anaconda/lib/python2.7/site-packages/pandas/core/internals.pyc\u001b[0m in \u001b[0;36mform_blocks\u001b[1;34m(arrays, names, axes)\u001b[0m\n\u001b[0;32m   3822\u001b[0m     \u001b[0mnames_idx\u001b[0m \u001b[1;33m=\u001b[0m \u001b[0mIndex\u001b[0m\u001b[1;33m(\u001b[0m\u001b[0mnames\u001b[0m\u001b[1;33m)\u001b[0m\u001b[1;33m\u001b[0m\u001b[0m\n\u001b[0;32m   3823\u001b[0m     \u001b[1;32mif\u001b[0m \u001b[0mnames_idx\u001b[0m\u001b[1;33m.\u001b[0m\u001b[0mequals\u001b[0m\u001b[1;33m(\u001b[0m\u001b[0maxes\u001b[0m\u001b[1;33m[\u001b[0m\u001b[1;36m0\u001b[0m\u001b[1;33m]\u001b[0m\u001b[1;33m)\u001b[0m\u001b[1;33m:\u001b[0m\u001b[1;33m\u001b[0m\u001b[0m\n\u001b[1;32m-> 3824\u001b[1;33m         \u001b[0mnames_indexer\u001b[0m \u001b[1;33m=\u001b[0m \u001b[0mnp\u001b[0m\u001b[1;33m.\u001b[0m\u001b[0marange\u001b[0m\u001b[1;33m(\u001b[0m\u001b[0mlen\u001b[0m\u001b[1;33m(\u001b[0m\u001b[0mnames_idx\u001b[0m\u001b[1;33m)\u001b[0m\u001b[1;33m)\u001b[0m\u001b[1;33m\u001b[0m\u001b[0m\n\u001b[0m\u001b[0;32m   3825\u001b[0m     \u001b[1;32melse\u001b[0m\u001b[1;33m:\u001b[0m\u001b[1;33m\u001b[0m\u001b[0m\n\u001b[0;32m   3826\u001b[0m         \u001b[1;32massert\u001b[0m \u001b[0mnames_idx\u001b[0m\u001b[1;33m.\u001b[0m\u001b[0mintersection\u001b[0m\u001b[1;33m(\u001b[0m\u001b[0maxes\u001b[0m\u001b[1;33m[\u001b[0m\u001b[1;36m0\u001b[0m\u001b[1;33m]\u001b[0m\u001b[1;33m)\u001b[0m\u001b[1;33m.\u001b[0m\u001b[0mis_unique\u001b[0m\u001b[1;33m\u001b[0m\u001b[0m\n",
      "\u001b[1;32m/home/shestakoff/anaconda/lib/python2.7/site-packages/pandas/core/index.pyc\u001b[0m in \u001b[0;36m__len__\u001b[1;34m(self)\u001b[0m\n\u001b[0;32m    263\u001b[0m         \u001b[1;32mreturn\u001b[0m \u001b[0mthe\u001b[0m \u001b[0mlength\u001b[0m \u001b[0mof\u001b[0m \u001b[0mthe\u001b[0m \u001b[0mIndex\u001b[0m\u001b[1;33m\u001b[0m\u001b[0m\n\u001b[0;32m    264\u001b[0m         \"\"\"\n\u001b[1;32m--> 265\u001b[1;33m         \u001b[1;32mreturn\u001b[0m \u001b[0mlen\u001b[0m\u001b[1;33m(\u001b[0m\u001b[0mself\u001b[0m\u001b[1;33m.\u001b[0m\u001b[0m_data\u001b[0m\u001b[1;33m)\u001b[0m\u001b[1;33m\u001b[0m\u001b[0m\n\u001b[0m\u001b[0;32m    266\u001b[0m \u001b[1;33m\u001b[0m\u001b[0m\n\u001b[0;32m    267\u001b[0m     \u001b[1;32mdef\u001b[0m \u001b[0m__array__\u001b[0m\u001b[1;33m(\u001b[0m\u001b[0mself\u001b[0m\u001b[1;33m,\u001b[0m \u001b[0mdtype\u001b[0m\u001b[1;33m=\u001b[0m\u001b[0mNone\u001b[0m\u001b[1;33m)\u001b[0m\u001b[1;33m:\u001b[0m\u001b[1;33m\u001b[0m\u001b[0m\n",
      "\u001b[1;31mKeyboardInterrupt\u001b[0m: "
     ]
    }
   ],
   "source": [
    "map_hannover = folium.Map(location=[__CITY_LAT, __CITY_LON], \n",
    "                          zoom_start=15)\n",
    "\n",
    "for index, user_data in df_user_pos.groupby(level=0):\n",
    "    user_data = add_lat_lon(user_data.reset_index())\n",
    "    user_data.sort_values('time', inplace=True)\n",
    "    if index < 500:\n",
    "        map_hannover.line(locations=user_data[['lat', 'lon']].values,\n",
    "                          line_opacity=0.2,\n",
    "                          line_color='blue')\n",
    "    else: \n",
    "        map_hannover.line(locations=user_data[['lat', 'lon']].values,\n",
    "                          line_opacity=0.2,\n",
    "                          line_color='red')\n",
    "\n",
    "# Careful, ~200mb\n",
    "map_hannover.create_map(path='./data/uc1004/test_train_map.html')"
   ]
  },
  {
   "cell_type": "markdown",
   "metadata": {},
   "source": [
    "There is an opinion, that it is better to make random train\\test split. According to the map some areas more filled with train, rather than test."
   ]
  },
  {
   "cell_type": "markdown",
   "metadata": {},
   "source": [
    "### Building obj-feat matrix"
   ]
  },
  {
   "cell_type": "markdown",
   "metadata": {},
   "source": [
    "So, for each position we have to build a feature vector, which is an average signal strength for this position from all the cells <br/>\n",
    "For training set we have to make a grid (1x1 or 2x2 meters)"
   ]
  },
  {
   "cell_type": "code",
   "execution_count": 12,
   "metadata": {
    "collapsed": false
   },
   "outputs": [],
   "source": [
    "df_user_pos.reset_index(inplace=True, drop=False)\n",
    "\n",
    "# ToDo: random train indexing\n",
    "users_train = np.random.choice(np.arange(1000), 500, replace=False)\n",
    "idx_train = df_user_pos.userid.isin(users_train)\n",
    "\n",
    "df_user_pos_train = df_user_pos[idx_train].copy()\n",
    "df_user_pos_test = df_user_pos[~idx_train].copy()\n",
    "\n",
    "df_user_pos_train.to_csv('./data/uc1004/train_raw' + __DATE + '.csv')\n",
    "df_user_pos_test.to_csv('./data/uc1004/test_raw' + __DATE + '.csv')\n",
    "\n",
    "# # remove floatting point\n",
    "df_user_pos_train.x = np.around(df_user_pos_train.x, 0)\n",
    "df_user_pos_train.y = np.around(df_user_pos_train.y, 0)\n",
    "\n",
    "df_user_pos_train.set_index(['x','y'], inplace=True)\n",
    "df_user_pos_train.sort_index(inplace=True)\n",
    "\n",
    "# Helpful stuff\n",
    "rename_dict = {}\n",
    "cellidfields = ['cell_id%d'%i for i in xrange(1,21)]\n",
    "rsrfields = ['rsr%d'%i for i in xrange(1,21)]\n",
    "for i in xrange(1,21):\n",
    "    rename_dict['cell_id%d'%i] = 'cell_id'\n",
    "    rename_dict['rsr%d'%i] = 'rsr'"
   ]
  },
  {
   "cell_type": "code",
   "execution_count": 13,
   "metadata": {
    "collapsed": false
   },
   "outputs": [
    {
     "name": "stdout",
     "output_type": "stream",
     "text": [
      "359278\n",
      "2914707\n"
     ]
    }
   ],
   "source": [
    "# Something to init\n",
    "train_pos_num = len(df_user_pos_train.index.unique())\n",
    "test_pos_num = df_user_pos_test.shape[0]\n",
    "pos_train = np.empty((train_pos_num, 2))\n",
    "pos_test = np.empty((test_pos_num, 2))\n",
    "\n",
    "cell_num = 195 # actually there are less in the data..\n",
    "\n",
    "X_train = scipy.sparse.dok_matrix((train_pos_num, cell_num))\n",
    "X_test = scipy.sparse.dok_matrix((test_pos_num, cell_num))\n",
    "\n",
    "print train_pos_num\n",
    "print test_pos_num"
   ]
  },
  {
   "cell_type": "code",
   "execution_count": 27,
   "metadata": {
    "collapsed": true
   },
   "outputs": [
    {
     "name": "stdout",
     "output_type": "stream",
     "text": [
      "50000\n",
      "100000\n",
      "150000\n",
      "200000\n",
      "250000\n",
      "300000\n",
      "350000\n"
     ]
    },
    {
     "name": "stderr",
     "output_type": "stream",
     "text": [
      "/home/shestakoff/anaconda/lib/python2.7/site-packages/scipy/sparse/compressed.py:739: SparseEfficiencyWarning: Changing the sparsity structure of a csr_matrix is expensive. lil_matrix is more efficient.\n",
      "  SparseEfficiencyWarning)\n"
     ]
    },
    {
     "ename": "AttributeError",
     "evalue": "to_csr not found",
     "output_type": "error",
     "traceback": [
      "\u001b[1;31m---------------------------------------------------------------------------\u001b[0m",
      "\u001b[1;31mAttributeError\u001b[0m                            Traceback (most recent call last)",
      "\u001b[1;32m<ipython-input-27-6247ede0aa88>\u001b[0m in \u001b[0;36m<module>\u001b[1;34m()\u001b[0m\n\u001b[0;32m     24\u001b[0m             \u001b[1;32mprint\u001b[0m \u001b[0mind\u001b[0m\u001b[1;33m\u001b[0m\u001b[0m\n\u001b[0;32m     25\u001b[0m     \u001b[0mfilename\u001b[0m \u001b[1;33m=\u001b[0m \u001b[1;34m'X_train'\u001b[0m \u001b[1;33m+\u001b[0m \u001b[0m__DATE\u001b[0m\u001b[1;33m\u001b[0m\u001b[0m\n\u001b[1;32m---> 26\u001b[1;33m     \u001b[0mX_train\u001b[0m \u001b[1;33m=\u001b[0m \u001b[0mX_train\u001b[0m\u001b[1;33m.\u001b[0m\u001b[0mto_csr\u001b[0m\u001b[1;33m(\u001b[0m\u001b[1;33m)\u001b[0m\u001b[1;33m\u001b[0m\u001b[0m\n\u001b[0m\u001b[0;32m     27\u001b[0m     \u001b[0mmmwrite\u001b[0m\u001b[1;33m(\u001b[0m\u001b[0mos\u001b[0m\u001b[1;33m.\u001b[0m\u001b[0mpath\u001b[0m\u001b[1;33m.\u001b[0m\u001b[0mjoin\u001b[0m\u001b[1;33m(\u001b[0m\u001b[0m__M_FILE_FOLDER\u001b[0m\u001b[1;33m,\u001b[0m \u001b[0mfilename\u001b[0m\u001b[1;33m)\u001b[0m\u001b[1;33m,\u001b[0m \u001b[0mX_train\u001b[0m\u001b[1;33m)\u001b[0m\u001b[1;33m\u001b[0m\u001b[0m\n\u001b[0;32m     28\u001b[0m     \u001b[1;32mdel\u001b[0m \u001b[0mX_train\u001b[0m\u001b[1;33m\u001b[0m\u001b[0m\n",
      "\u001b[1;32m/home/shestakoff/anaconda/lib/python2.7/site-packages/scipy/sparse/base.pyc\u001b[0m in \u001b[0;36m__getattr__\u001b[1;34m(self, attr)\u001b[0m\n\u001b[0;32m    506\u001b[0m             \u001b[1;32mreturn\u001b[0m \u001b[0mself\u001b[0m\u001b[1;33m.\u001b[0m\u001b[0mgetnnz\u001b[0m\u001b[1;33m(\u001b[0m\u001b[1;33m)\u001b[0m\u001b[1;33m\u001b[0m\u001b[0m\n\u001b[0;32m    507\u001b[0m         \u001b[1;32melse\u001b[0m\u001b[1;33m:\u001b[0m\u001b[1;33m\u001b[0m\u001b[0m\n\u001b[1;32m--> 508\u001b[1;33m             \u001b[1;32mraise\u001b[0m \u001b[0mAttributeError\u001b[0m\u001b[1;33m(\u001b[0m\u001b[0mattr\u001b[0m \u001b[1;33m+\u001b[0m \u001b[1;34m\" not found\"\u001b[0m\u001b[1;33m)\u001b[0m\u001b[1;33m\u001b[0m\u001b[0m\n\u001b[0m\u001b[0;32m    509\u001b[0m \u001b[1;33m\u001b[0m\u001b[0m\n\u001b[0;32m    510\u001b[0m     \u001b[1;32mdef\u001b[0m \u001b[0mtranspose\u001b[0m\u001b[1;33m(\u001b[0m\u001b[0mself\u001b[0m\u001b[1;33m)\u001b[0m\u001b[1;33m:\u001b[0m\u001b[1;33m\u001b[0m\u001b[0m\n",
      "\u001b[1;31mAttributeError\u001b[0m: to_csr not found"
     ]
    }
   ],
   "source": [
    "# Filling train matrix\n",
    "if __LOAD_TRAIN_TEST_MATRIX:\n",
    "    filename = 'X_train' + __TRAIN_TEST_DATE + '.mm'\n",
    "    X_train = mmread(os.path.join(__M_FILE_FOLDER, filename))\n",
    "    filename = 'pos_train' + __TRAIN_TEST_DATE + '.mm'\n",
    "    pos_train = mmread(os.path.join(__M_FILE_FOLDER, filename))\n",
    "else:\n",
    "    ind = 0\n",
    "    for pos, pos_data in df_user_pos_train.groupby(level=[0,1]):\n",
    "        pos_train[ind, :] = pos\n",
    "\n",
    "        idx = zip(pos_data.userid.values, np.round(pos_data.time.values, 1))\n",
    "        sig_data = df_user_rsr.loc[idx].dropna()\n",
    "\n",
    "        if sig_data.shape[0]:\n",
    "            avg = (pd.concat([sig_data[['cell_id%d'%i,'rsr%d'%i]].rename(columns=rename_dict) for i in xrange(1,21)],\n",
    "                             axis=0, ignore_index=True)\n",
    "                     .groupby('cell_id')\n",
    "                     .rsr.agg(np.nanmean))\n",
    "            X_train[ind, avg.index.values] = avg.values\n",
    "\n",
    "        ind+=1\n",
    "        if np.mod(ind, 50000)==0:\n",
    "            print ind\n",
    "    filename = 'X_train' + __DATE\n",
    "    X_train = X_train.tocsr()\n",
    "    mmwrite(os.path.join(__M_FILE_FOLDER, filename), X_train)\n",
    "    del X_train\n",
    "    filename = 'pos_train' + __DATE\n",
    "    mmwrite(os.path.join(__M_FILE_FOLDER, filename), pos_train)\n",
    "    del pos_train\n",
    "    del df_user_pos_train"
   ]
  },
  {
   "cell_type": "code",
   "execution_count": 15,
   "metadata": {
    "collapsed": false,
    "scrolled": true
   },
   "outputs": [
    {
     "name": "stdout",
     "output_type": "stream",
     "text": [
      "2722\n",
      "8827\n",
      "17503\n",
      "18698\n",
      "21326\n",
      "32214\n",
      "35507\n",
      "36084\n",
      "66704\n",
      "67407\n",
      "79472\n",
      "82197\n",
      "85187\n",
      "89404\n",
      "89511\n",
      "92137\n",
      "93013\n",
      "118439\n",
      "126297\n",
      "131591\n",
      "135735\n",
      "139117\n",
      "147608\n",
      "152549\n",
      "152569\n",
      "153362\n",
      "160166\n",
      "160301\n",
      "160584\n",
      "161834\n",
      "175768\n",
      "176894\n",
      "181425\n",
      "185843\n",
      "197834\n",
      "200887\n",
      "204990\n",
      "210357\n",
      "214516\n",
      "229072\n",
      "236851\n",
      "261742\n",
      "268190\n",
      "276525\n",
      "285963\n",
      "286792\n",
      "294619\n",
      "296337\n",
      "318353\n",
      "324686\n",
      "327393\n",
      "342455\n",
      "354260\n",
      "358882\n",
      "373695\n",
      "374611\n",
      "378627\n",
      "380647\n",
      "393144\n",
      "396370\n",
      "410799\n",
      "418797\n",
      "423339\n",
      "425341\n",
      "461341\n",
      "463666\n",
      "466176\n",
      "471817\n",
      "477721\n",
      "481394\n",
      "495075\n",
      "503019\n",
      "504097\n",
      "510332\n",
      "512296\n",
      "517191\n",
      "553191\n",
      "561835\n",
      "561884\n",
      "562339\n",
      "581131\n",
      "585226\n",
      "585428\n",
      "586145\n",
      "594889\n",
      "595583\n",
      "596367\n",
      "596537\n",
      "599583\n",
      "601229\n",
      "602025\n",
      "604792\n",
      "604857\n",
      "606025\n",
      "609079\n",
      "612803\n",
      "613543\n",
      "616654\n",
      "617861\n",
      "621069\n",
      "626191\n",
      "626469\n",
      "628645\n",
      "658323\n",
      "667733\n",
      "669684\n",
      "701823\n",
      "706322\n",
      "719178\n",
      "720582\n",
      "726541\n",
      "728951\n",
      "729239\n",
      "729410\n",
      "730181\n",
      "730899\n",
      "734082\n",
      "743259\n",
      "744139\n",
      "744908\n",
      "748240\n",
      "749127\n",
      "749700\n",
      "754601\n",
      "757343\n",
      "759957\n",
      "760413\n",
      "762293\n",
      "766443\n",
      "772110\n",
      "772313\n",
      "787246\n",
      "793270\n",
      "796775\n",
      "798690\n",
      "800468\n",
      "804041\n",
      "806733\n",
      "814791\n",
      "817738\n",
      "824003\n",
      "824807\n",
      "827702\n",
      "834555\n",
      "836756\n",
      "838652\n",
      "840808\n",
      "841190\n",
      "847055\n",
      "847443\n",
      "847818\n",
      "849518\n",
      "849820\n",
      "866239\n",
      "867164\n",
      "868113\n",
      "868987\n",
      "869454\n",
      "870270\n",
      "872886\n",
      "877046\n",
      "881114\n",
      "882722\n",
      "885395\n",
      "885397\n",
      "891837\n",
      "897408\n",
      "901920\n",
      "902858\n",
      "903095\n",
      "903143\n",
      "904012\n",
      "908745\n",
      "913618\n",
      "948043\n",
      "954555\n",
      "955017\n",
      "955752\n",
      "956658\n",
      "958733\n",
      "959972\n",
      "962962\n",
      "968176\n",
      "968590\n",
      "969782\n",
      "982250\n",
      "985681\n",
      "989783\n",
      "991728\n",
      "993101\n",
      "1005700\n",
      "1016811\n",
      "1035485\n",
      "1035987\n",
      "1055618\n",
      "1062725\n",
      "1067371\n",
      "1082518\n",
      "1084644\n",
      "1103891\n",
      "1120777\n",
      "1121231\n",
      "1128937\n",
      "1135111\n",
      "1140731\n",
      "1140740\n",
      "1141194\n",
      "1151049\n",
      "1156419\n",
      "1160295\n",
      "1163008\n",
      "1169674\n",
      "1178349\n",
      "1178497\n",
      "1179989\n",
      "1194796\n",
      "1217249\n",
      "1220309\n",
      "1227716\n",
      "1236111\n",
      "1242003\n",
      "1252845\n",
      "1255102\n",
      "1256764\n",
      "1260134\n",
      "1266997\n",
      "1268130\n",
      "1272225\n",
      "1278929\n",
      "1296766\n",
      "1299052\n",
      "1313791\n",
      "1316493\n",
      "1335730\n",
      "1341700\n",
      "1344401\n",
      "1344765\n",
      "1347524\n",
      "1348464\n",
      "1350567\n",
      "1375117\n",
      "1377046\n",
      "1377689\n",
      "1383038\n",
      "1393586\n",
      "1401685\n",
      "1413622\n",
      "1447501\n",
      "1453640\n",
      "1455181\n",
      "1455733\n",
      "1457762\n",
      "1459583\n",
      "1466476\n",
      "1467044\n",
      "1474763\n",
      "1475277\n",
      "1475372\n",
      "1480511\n",
      "1481701\n",
      "1482134\n",
      "1484769\n",
      "1520769\n",
      "1521522\n",
      "1530774\n",
      "1537281\n",
      "1537513\n",
      "1552218\n",
      "1567880\n",
      "1570123\n",
      "1571687\n",
      "1575932\n",
      "1576397\n",
      "1576931\n",
      "1577605\n",
      "1595946\n",
      "1602642\n",
      "1610126\n",
      "1621245\n",
      "1623162\n",
      "1630453\n",
      "1650326\n",
      "1654758\n",
      "1659761\n",
      "1665588\n",
      "1666046\n",
      "1690636\n",
      "1693579\n",
      "1709133\n",
      "1715593\n",
      "1718802\n",
      "1727443\n",
      "1728473\n",
      "1730862\n",
      "1740932\n",
      "1751145\n",
      "1755158\n",
      "1763734\n",
      "1763950\n",
      "1780161\n",
      "1780669\n",
      "1784125\n",
      "1790624\n",
      "1807554\n",
      "1818719\n",
      "1830729\n",
      "1840333\n",
      "1853746\n",
      "1868759\n",
      "1874171\n",
      "1876996\n",
      "1897193\n",
      "1899761\n",
      "1921741\n",
      "1942148\n",
      "1944264\n",
      "1947763\n",
      "1966684\n",
      "1976793\n",
      "1978797\n",
      "1978966\n",
      "1993805\n",
      "2006085\n",
      "2012841\n",
      "2014847\n",
      "2023508\n",
      "2031276\n",
      "2032705\n",
      "2043227\n",
      "2044303\n",
      "2049227\n",
      "2049530\n",
      "2050963\n",
      "2053748\n",
      "2058557\n",
      "2061242\n",
      "2064748\n",
      "2076300\n",
      "2079898\n",
      "2082525\n",
      "2089050\n",
      "2096687\n",
      "2099652\n",
      "2112007\n",
      "2127815\n",
      "2128124\n",
      "2131451\n",
      "2132692\n",
      "2139175\n",
      "2141970\n",
      "2164508\n",
      "2167404\n",
      "2177679\n",
      "2177878\n",
      "2184301\n",
      "2204661\n",
      "2204795\n",
      "2208673\n",
      "2224197\n",
      "2224944\n",
      "2225658\n",
      "2225840\n",
      "2235460\n",
      "2241161\n",
      "2246823\n",
      "2254657\n",
      "2259210\n",
      "2259535\n",
      "2260874\n",
      "2274250\n",
      "2274379\n",
      "2275750\n",
      "2289243\n",
      "2295152\n",
      "2307464\n",
      "2321259\n",
      "2325153\n",
      "2348033\n",
      "2356121\n",
      "2357570\n",
      "2357575\n",
      "2362198\n",
      "2362583\n",
      "2369448\n",
      "2369970\n",
      "2375084\n",
      "2375455\n",
      "2385103\n",
      "2386584\n",
      "2388520\n",
      "2393848\n",
      "2410188\n",
      "2414701\n",
      "2415341\n",
      "2428148\n",
      "2434153\n",
      "2447405\n",
      "2449069\n",
      "2454224\n",
      "2457960\n",
      "2475542\n",
      "2482695\n",
      "2488666\n",
      "2492271\n",
      "2494678\n",
      "2494901\n",
      "2495443\n",
      "2510214\n",
      "2510430\n",
      "2512527\n",
      "2520589\n",
      "2521904\n",
      "2523349\n",
      "2533727\n",
      "2536495\n",
      "2538098\n",
      "2551014\n",
      "2552564\n",
      "2553626\n",
      "2558857\n",
      "2563680\n",
      "2567145\n",
      "2569102\n",
      "2576309\n",
      "2579621\n",
      "2582295\n",
      "2582606\n",
      "2589837\n",
      "2590691\n",
      "2591030\n",
      "2592467\n",
      "2601940\n",
      "2602407\n",
      "2610307\n",
      "2611220\n",
      "2613291\n",
      "2616798\n",
      "2631380\n",
      "2633313\n",
      "2635619\n",
      "2637136\n",
      "2637237\n",
      "2643787\n",
      "2644477\n",
      "2647047\n",
      "2647318\n",
      "2650732\n",
      "2653336\n",
      "2657528\n",
      "2664819\n",
      "2669166\n",
      "2674611\n",
      "2682129\n",
      "2687690\n",
      "2688925\n",
      "2690598\n",
      "2696096\n",
      "2700998\n",
      "2702254\n",
      "2705291\n",
      "2707668\n",
      "2709680\n",
      "2714443\n",
      "2716930\n",
      "2727733\n",
      "2728554\n",
      "2729710\n",
      "2733670\n",
      "2735143\n",
      "2737744\n",
      "2744706\n",
      "2747268\n",
      "2761914\n",
      "2769760\n",
      "2794936\n",
      "2797279\n",
      "2801270\n",
      "2801328\n",
      "2806012\n",
      "2806604\n",
      "2807187\n",
      "2807520\n",
      "2811433\n",
      "2830737\n",
      "2839593\n",
      "2848330\n",
      "2849046\n",
      "2851828\n",
      "2853371\n",
      "2864941\n",
      "2868053\n",
      "2877202\n",
      "2882293\n",
      "2888419\n",
      "2892732\n",
      "2899042\n",
      "2900654\n",
      "2905892\n",
      "2909331\n",
      "2914707\n"
     ]
    },
    {
     "ename": "ValueError",
     "evalue": "Expected 2 dimensional array",
     "output_type": "error",
     "traceback": [
      "\u001b[1;31m---------------------------------------------------------------------------\u001b[0m",
      "\u001b[1;31mValueError\u001b[0m                                Traceback (most recent call last)",
      "\u001b[1;32m<ipython-input-15-4446dcedc27f>\u001b[0m in \u001b[0;36m<module>\u001b[1;34m()\u001b[0m\n\u001b[0;32m     27\u001b[0m \u001b[1;33m\u001b[0m\u001b[0m\n\u001b[0;32m     28\u001b[0m     \u001b[0mfilename\u001b[0m \u001b[1;33m=\u001b[0m \u001b[1;34m'idxrow'\u001b[0m \u001b[1;33m+\u001b[0m \u001b[0m__DATE\u001b[0m\u001b[1;33m\u001b[0m\u001b[0m\n\u001b[1;32m---> 29\u001b[1;33m     \u001b[0mmmwrite\u001b[0m\u001b[1;33m(\u001b[0m\u001b[0mos\u001b[0m\u001b[1;33m.\u001b[0m\u001b[0mpath\u001b[0m\u001b[1;33m.\u001b[0m\u001b[0mjoin\u001b[0m\u001b[1;33m(\u001b[0m\u001b[0m__M_FILE_FOLDER\u001b[0m\u001b[1;33m,\u001b[0m \u001b[0mfilename\u001b[0m\u001b[1;33m)\u001b[0m\u001b[1;33m,\u001b[0m \u001b[0midxrow\u001b[0m\u001b[1;33m)\u001b[0m\u001b[1;33m\u001b[0m\u001b[0m\n\u001b[0m\u001b[0;32m     30\u001b[0m     \u001b[0mfilename\u001b[0m \u001b[1;33m=\u001b[0m \u001b[1;34m'idxcol'\u001b[0m \u001b[1;33m+\u001b[0m \u001b[0m__DATE\u001b[0m\u001b[1;33m\u001b[0m\u001b[0m\n\u001b[0;32m     31\u001b[0m     \u001b[0mmmwrite\u001b[0m\u001b[1;33m(\u001b[0m\u001b[0mos\u001b[0m\u001b[1;33m.\u001b[0m\u001b[0mpath\u001b[0m\u001b[1;33m.\u001b[0m\u001b[0mjoin\u001b[0m\u001b[1;33m(\u001b[0m\u001b[0m__M_FILE_FOLDER\u001b[0m\u001b[1;33m,\u001b[0m \u001b[0mfilename\u001b[0m\u001b[1;33m)\u001b[0m\u001b[1;33m,\u001b[0m \u001b[0midxcol\u001b[0m\u001b[1;33m)\u001b[0m\u001b[1;33m\u001b[0m\u001b[0m\n",
      "\u001b[1;32m/home/shestakoff/anaconda/lib/python2.7/site-packages/scipy/io/mmio.pyc\u001b[0m in \u001b[0;36mmmwrite\u001b[1;34m(target, a, comment, field, precision)\u001b[0m\n\u001b[0;32m     94\u001b[0m         \u001b[0mNumber\u001b[0m \u001b[0mof\u001b[0m \u001b[0mdigits\u001b[0m \u001b[0mto\u001b[0m \u001b[0mdisplay\u001b[0m \u001b[1;32mfor\u001b[0m \u001b[0mreal\u001b[0m \u001b[1;32mor\u001b[0m \u001b[0mcomplex\u001b[0m \u001b[0mvalues\u001b[0m\u001b[1;33m.\u001b[0m\u001b[1;33m\u001b[0m\u001b[0m\n\u001b[0;32m     95\u001b[0m     \"\"\"\n\u001b[1;32m---> 96\u001b[1;33m     \u001b[0mMMFile\u001b[0m\u001b[1;33m(\u001b[0m\u001b[1;33m)\u001b[0m\u001b[1;33m.\u001b[0m\u001b[0mwrite\u001b[0m\u001b[1;33m(\u001b[0m\u001b[0mtarget\u001b[0m\u001b[1;33m,\u001b[0m \u001b[0ma\u001b[0m\u001b[1;33m,\u001b[0m \u001b[0mcomment\u001b[0m\u001b[1;33m,\u001b[0m \u001b[0mfield\u001b[0m\u001b[1;33m,\u001b[0m \u001b[0mprecision\u001b[0m\u001b[1;33m)\u001b[0m\u001b[1;33m\u001b[0m\u001b[0m\n\u001b[0m\u001b[0;32m     97\u001b[0m \u001b[1;33m\u001b[0m\u001b[0m\n\u001b[0;32m     98\u001b[0m \u001b[1;33m\u001b[0m\u001b[0m\n",
      "\u001b[1;32m/home/shestakoff/anaconda/lib/python2.7/site-packages/scipy/io/mmio.pyc\u001b[0m in \u001b[0;36mwrite\u001b[1;34m(self, target, a, comment, field, precision)\u001b[0m\n\u001b[0;32m    334\u001b[0m \u001b[1;33m\u001b[0m\u001b[0m\n\u001b[0;32m    335\u001b[0m         \u001b[1;32mtry\u001b[0m\u001b[1;33m:\u001b[0m\u001b[1;33m\u001b[0m\u001b[0m\n\u001b[1;32m--> 336\u001b[1;33m             \u001b[0mself\u001b[0m\u001b[1;33m.\u001b[0m\u001b[0m_write\u001b[0m\u001b[1;33m(\u001b[0m\u001b[0mstream\u001b[0m\u001b[1;33m,\u001b[0m \u001b[0ma\u001b[0m\u001b[1;33m,\u001b[0m \u001b[0mcomment\u001b[0m\u001b[1;33m,\u001b[0m \u001b[0mfield\u001b[0m\u001b[1;33m,\u001b[0m \u001b[0mprecision\u001b[0m\u001b[1;33m)\u001b[0m\u001b[1;33m\u001b[0m\u001b[0m\n\u001b[0m\u001b[0;32m    337\u001b[0m \u001b[1;33m\u001b[0m\u001b[0m\n\u001b[0;32m    338\u001b[0m         \u001b[1;32mfinally\u001b[0m\u001b[1;33m:\u001b[0m\u001b[1;33m\u001b[0m\u001b[0m\n",
      "\u001b[1;32m/home/shestakoff/anaconda/lib/python2.7/site-packages/scipy/io/mmio.pyc\u001b[0m in \u001b[0;36m_write\u001b[1;34m(self, stream, a, comment, field, precision)\u001b[0m\n\u001b[0;32m    512\u001b[0m             \u001b[0ma\u001b[0m \u001b[1;33m=\u001b[0m \u001b[0masarray\u001b[0m\u001b[1;33m(\u001b[0m\u001b[0ma\u001b[0m\u001b[1;33m)\u001b[0m\u001b[1;33m\u001b[0m\u001b[0m\n\u001b[0;32m    513\u001b[0m             \u001b[1;32mif\u001b[0m \u001b[0mlen\u001b[0m\u001b[1;33m(\u001b[0m\u001b[0ma\u001b[0m\u001b[1;33m.\u001b[0m\u001b[0mshape\u001b[0m\u001b[1;33m)\u001b[0m \u001b[1;33m!=\u001b[0m \u001b[1;36m2\u001b[0m\u001b[1;33m:\u001b[0m\u001b[1;33m\u001b[0m\u001b[0m\n\u001b[1;32m--> 514\u001b[1;33m                 \u001b[1;32mraise\u001b[0m \u001b[0mValueError\u001b[0m\u001b[1;33m(\u001b[0m\u001b[1;34m'Expected 2 dimensional array'\u001b[0m\u001b[1;33m)\u001b[0m\u001b[1;33m\u001b[0m\u001b[0m\n\u001b[0m\u001b[0;32m    515\u001b[0m             \u001b[0mrows\u001b[0m\u001b[1;33m,\u001b[0m\u001b[0mcols\u001b[0m \u001b[1;33m=\u001b[0m \u001b[0ma\u001b[0m\u001b[1;33m.\u001b[0m\u001b[0mshape\u001b[0m\u001b[1;33m\u001b[0m\u001b[0m\n\u001b[0;32m    516\u001b[0m             \u001b[0mentries\u001b[0m \u001b[1;33m=\u001b[0m \u001b[0mrows\u001b[0m\u001b[1;33m*\u001b[0m\u001b[0mcols\u001b[0m\u001b[1;33m\u001b[0m\u001b[0m\n",
      "\u001b[1;31mValueError\u001b[0m: Expected 2 dimensional array"
     ]
    }
   ],
   "source": [
    "# Filling test matrix\n",
    "# Test matrix sould not be averaged and treated as-is\n",
    "if __LOAD_TRAIN_TEST_MATRIX:\n",
    "    filename = 'X_test' + __TRAIN_TEST_DATE + '.mm'\n",
    "    X_test = mmread(os.path.join(__M_FILE_FOLDER, filename))\n",
    "    filename = 'pos_test' + __TRAIN_TEST_DATE + '.mm'\n",
    "    pos_test = mmread(os.path.join(__M_FILE_FOLDER, filename))\n",
    "else:\n",
    "    ind = 0\n",
    "    ind_matrix = 0\n",
    "    idxrow = np.empty((df_user_pos_test.shape[0]*20,))\n",
    "    idxcol = np.empty((df_user_pos_test.shape[0]*20,))\n",
    "    idxvals = np.empty((df_user_pos_test.shape[0]*20,))\n",
    "    for index, pos_data in df_user_pos_test.groupby('userid'):\n",
    "        pos_test[ind:(ind+pos_data.shape[0]), :] = pos_data[['x','y']].values\n",
    "        \n",
    "        mrg = pd.merge(pos_data, df_user_rsr, left_on=['userid', 'time'], right_index=True)\n",
    "        \n",
    "        idxrow[ind_matrix:(ind_matrix+pos_data.shape[0]*20)] = np.array(range(ind,(ind+pos_data.shape[0]))*20).flatten()\n",
    "        idxcol[ind_matrix:(ind_matrix+pos_data.shape[0]*20)] = mrg[cellidfields].values.T.flatten()\n",
    "        \n",
    "        idxvals[ind_matrix:(ind_matrix+pos_data.shape[0]*20)] = mrg[rsrfields].values.T.flatten()\n",
    "\n",
    "        ind+=pos_data.shape[0]\n",
    "        ind_matrix+=pos_data.shape[0]*20\n",
    "        print ind  \n",
    "\n",
    "    \n",
    "    filename = 'pos_test' + __DATE\n",
    "    mmwrite(os.path.join(__M_FILE_FOLDER, filename), pos_test)\n",
    "    filename = 'idxrow' + __DATE\n",
    "    mmwrite(os.path.join(__M_FILE_FOLDER, filename), idxrow)\n",
    "    filename = 'idxcol' + __DATE\n",
    "    mmwrite(os.path.join(__M_FILE_FOLDER, filename), idxcol)\n",
    "    filename = 'idxvals' + __DATE\n",
    "    mmwrite(os.path.join(__M_FILE_FOLDER, filename), idxvals)\n",
    "    \n",
    "    # cleaning before knn\n",
    "    del df_user_rsr\n",
    "    del df_user_pos"
   ]
  },
  {
   "cell_type": "code",
   "execution_count": 23,
   "metadata": {
    "collapsed": false
   },
   "outputs": [],
   "source": [
    "X_test = (scipy.sparse\n",
    "               .coo_matrix((idxvals, (idxrow,idxcol)),\n",
    "                          shape=(df_user_pos_test.shape[0], cell_num)))\n",
    "X_test = X_test.tocsr()\n",
    "filename = 'X_test' + __DATE\n",
    "mmwrite(os.path.join(__M_FILE_FOLDER, filename), X_test)"
   ]
  },
  {
   "cell_type": "markdown",
   "metadata": {},
   "source": [
    "## KNN itself"
   ]
  },
  {
   "cell_type": "markdown",
   "metadata": {},
   "source": [
    "Ok, there was some error, lets look at least to what we have"
   ]
  },
  {
   "cell_type": "code",
   "execution_count": 5,
   "metadata": {
    "collapsed": false
   },
   "outputs": [],
   "source": [
    "X_train = mmread('./data/uc1004/mmfiles/X_train_2015-12-22_02_25_57.mtx')\n",
    "X_train = X_train.tocsr()\n",
    "pos_train = mmread('./data/uc1004/mmfiles/pos_train_2015-12-22_02_25_57.mtx')\n",
    "X_test = mmread('./data/uc1004/mmfiles/X_test_2015-12-22_02_25_57.mtx')\n",
    "X_test = X_test.tocsr()\n",
    "pos_test = mmread('./data/uc1004/mmfiles/pos_test_2015-12-22_02_25_57.mtx')"
   ]
  },
  {
   "cell_type": "code",
   "execution_count": 6,
   "metadata": {
    "collapsed": false
   },
   "outputs": [],
   "source": [
    "# Sklearn KN\n",
    "\n",
    "# cosine\n",
    "knn = KNeighborsRegressor(n_neighbors=1, algorithm='brute', \n",
    "                          metric='cosine', n_jobs=2)\n",
    "\n",
    "# # euclidean\n",
    "# knn = KNeighborsRegressor(n_neighbors=1, algorithm='auto', \n",
    "#                           metric='euclidean', n_jobs=1)\n",
    "\n",
    "knn.fit(X_train, pos_train)\n",
    "pos_pred = np.empty_like(pos_test)"
   ]
  },
  {
   "cell_type": "code",
   "execution_count": null,
   "metadata": {
    "collapsed": false
   },
   "outputs": [
    {
     "data": {
      "text/plain": [
       "KNeighborsRegressor(algorithm='brute', leaf_size=30, metric='cosine',\n",
       "          metric_params=None, n_jobs=2, n_neighbors=1, p=2,\n",
       "          weights='uniform')"
      ]
     },
     "execution_count": 7,
     "metadata": {},
     "output_type": "execute_result"
    }
   ],
   "source": [
    "knn"
   ]
  },
  {
   "cell_type": "code",
   "execution_count": null,
   "metadata": {
    "collapsed": false
   },
   "outputs": [],
   "source": [
    "# Not to overfill memory..\n",
    "istep = 400\n",
    "for i in xrange(istep, pos_pred.shape[0], istep):\n",
    "    pos_pred[(i-istep):i] = knn.predict(X_test[(i-istep):i, :])\n",
    "\n",
    "if i < pos_pred.shape[0]:\n",
    "    pos_pred[i:] = knn.predict(X_test[i:, :])"
   ]
  },
  {
   "cell_type": "code",
   "execution_count": null,
   "metadata": {
    "collapsed": true
   },
   "outputs": [],
   "source": [
    "__DATE = '_2015-12-22_02_25_57'\n",
    "filename = 'pos_pred_cosine' + __DATE\n",
    "mmwrite(os.path.join(__M_FILE_FOLDER, filename), pos_pred)"
   ]
  },
  {
   "cell_type": "markdown",
   "metadata": {},
   "source": [
    "## Estimate accuracy"
   ]
  },
  {
   "cell_type": "code",
   "execution_count": 2,
   "metadata": {
    "collapsed": true
   },
   "outputs": [],
   "source": [
    "pos_pred = mmread('./data/uc1004/mmfiles/pos_pred_2015-12-22_02_25_57.mtx')\n",
    "pos_test = mmread('./data/uc1004/mmfiles/pos_test_2015-12-22_02_25_57.mtx')"
   ]
  },
  {
   "cell_type": "code",
   "execution_count": 3,
   "metadata": {
    "collapsed": false
   },
   "outputs": [],
   "source": [
    "err = np.sqrt(((pos_pred - pos_test)**2).sum(axis=1))"
   ]
  },
  {
   "cell_type": "code",
   "execution_count": 10,
   "metadata": {
    "collapsed": false
   },
   "outputs": [
    {
     "data": {
      "text/plain": [
       "0.52201532544542295"
      ]
     },
     "execution_count": 10,
     "metadata": {},
     "output_type": "execute_result"
    }
   ],
   "source": [
    "np.percentile(err, 67)"
   ]
  },
  {
   "cell_type": "code",
   "execution_count": 7,
   "metadata": {
    "collapsed": false
   },
   "outputs": [
    {
     "data": {
      "text/plain": [
       "array([ 0.0728011 ,  4.69204827])"
      ]
     },
     "execution_count": 7,
     "metadata": {},
     "output_type": "execute_result"
    }
   ],
   "source": [
    "bs_mean(err, 10000, 95)"
   ]
  },
  {
   "cell_type": "code",
   "execution_count": null,
   "metadata": {
    "collapsed": true
   },
   "outputs": [],
   "source": [
    "# possible reason for big error - zero rows in train\\test"
   ]
  },
  {
   "cell_type": "markdown",
   "metadata": {},
   "source": [
    "# Trying to find some bug"
   ]
  },
  {
   "cell_type": "code",
   "execution_count": 44,
   "metadata": {
    "collapsed": true
   },
   "outputs": [],
   "source": [
    "cellidfields = ['cell_id%d'%i for i in xrange(1,21)]\n",
    "rsrfields = ['rsr%d'%i for i in xrange(1,21)]"
   ]
  },
  {
   "cell_type": "code",
   "execution_count": null,
   "metadata": {
    "collapsed": true
   },
   "outputs": [],
   "source": [
    "X_train = mmread('./data/uc1004/mmfiles/X_train_2015-12-22_02_25_57.mtx')\n",
    "X_train = X_train.tocsr()\n",
    "pos_train = mmread('./data/uc1004/mmfiles/pos_train_2015-12-22_02_25_57.mtx')\n",
    "X_test = mmread('./data/uc1004/mmfiles/X_test_2015-12-22_02_25_57.mtx')\n",
    "X_test = X_test.tocsr()\n",
    "pos_test = mmread('./data/uc1004/mmfiles/pos_test_2015-12-22_02_25_57.mtx')\n",
    "pos_pred = mmread('./data/uc1004/mmfiles/pos_pred_cosine_2015-12-22_02_25_57.mtx')"
   ]
  },
  {
   "cell_type": "code",
   "execution_count": null,
   "metadata": {
    "collapsed": true
   },
   "outputs": [],
   "source": [
    "df_user_rsr = pd.read_csv('./data/uc1004/us_sig_exper.csv', \n",
    "                          header=0,\n",
    "                          dtype=col_types)\n",
    "df_user_pos_train = pd.read_csv('./data/uc1004/train_raw_2015-12-22_02_25_57.csv')\n",
    "df_user_pos_test = pd.read_csv('./data/uc1004/test_raw_2015-12-22_02_25_57.csv')"
   ]
  },
  {
   "cell_type": "code",
   "execution_count": 37,
   "metadata": {
    "collapsed": false
   },
   "outputs": [
    {
     "data": {
      "text/html": [
       "<div>\n",
       "<table border=\"1\" class=\"dataframe\">\n",
       "  <thead>\n",
       "    <tr style=\"text-align: right;\">\n",
       "      <th></th>\n",
       "      <th>Unnamed: 0</th>\n",
       "      <th>userid</th>\n",
       "      <th>time</th>\n",
       "      <th>x</th>\n",
       "      <th>y</th>\n",
       "    </tr>\n",
       "  </thead>\n",
       "  <tbody>\n",
       "    <tr>\n",
       "      <th>0</th>\n",
       "      <td>3307</td>\n",
       "      <td>1</td>\n",
       "      <td>0.1</td>\n",
       "      <td>9893.95</td>\n",
       "      <td>13653.38</td>\n",
       "    </tr>\n",
       "    <tr>\n",
       "      <th>1</th>\n",
       "      <td>3308</td>\n",
       "      <td>1</td>\n",
       "      <td>0.2</td>\n",
       "      <td>9893.95</td>\n",
       "      <td>13653.38</td>\n",
       "    </tr>\n",
       "    <tr>\n",
       "      <th>2</th>\n",
       "      <td>3309</td>\n",
       "      <td>1</td>\n",
       "      <td>0.3</td>\n",
       "      <td>9893.95</td>\n",
       "      <td>13653.38</td>\n",
       "    </tr>\n",
       "    <tr>\n",
       "      <th>3</th>\n",
       "      <td>3310</td>\n",
       "      <td>1</td>\n",
       "      <td>0.4</td>\n",
       "      <td>9893.95</td>\n",
       "      <td>13653.38</td>\n",
       "    </tr>\n",
       "    <tr>\n",
       "      <th>4</th>\n",
       "      <td>3311</td>\n",
       "      <td>1</td>\n",
       "      <td>0.5</td>\n",
       "      <td>9893.95</td>\n",
       "      <td>13653.38</td>\n",
       "    </tr>\n",
       "    <tr>\n",
       "      <th>5</th>\n",
       "      <td>3312</td>\n",
       "      <td>1</td>\n",
       "      <td>0.6</td>\n",
       "      <td>9893.95</td>\n",
       "      <td>13653.37</td>\n",
       "    </tr>\n",
       "  </tbody>\n",
       "</table>\n",
       "</div>"
      ],
      "text/plain": [
       "   Unnamed: 0  userid  time        x         y\n",
       "0        3307       1   0.1  9893.95  13653.38\n",
       "1        3308       1   0.2  9893.95  13653.38\n",
       "2        3309       1   0.3  9893.95  13653.38\n",
       "3        3310       1   0.4  9893.95  13653.38\n",
       "4        3311       1   0.5  9893.95  13653.38\n",
       "5        3312       1   0.6  9893.95  13653.37"
      ]
     },
     "execution_count": 37,
     "metadata": {},
     "output_type": "execute_result"
    }
   ],
   "source": [
    "df_user_pos_test.head(6)"
   ]
  },
  {
   "cell_type": "code",
   "execution_count": 56,
   "metadata": {
    "collapsed": false
   },
   "outputs": [
    {
     "data": {
      "text/html": [
       "<div>\n",
       "<table border=\"1\" class=\"dataframe\">\n",
       "  <thead>\n",
       "    <tr style=\"text-align: right;\">\n",
       "      <th></th>\n",
       "      <th>cell_id1</th>\n",
       "      <th>rsr1</th>\n",
       "      <th>cell_id2</th>\n",
       "      <th>rsr2</th>\n",
       "      <th>cell_id3</th>\n",
       "      <th>rsr3</th>\n",
       "      <th>cell_id4</th>\n",
       "      <th>rsr4</th>\n",
       "      <th>cell_id5</th>\n",
       "      <th>rsr5</th>\n",
       "      <th>...</th>\n",
       "      <th>cell_id16</th>\n",
       "      <th>rsr16</th>\n",
       "      <th>cell_id17</th>\n",
       "      <th>rsr17</th>\n",
       "      <th>cell_id18</th>\n",
       "      <th>rsr18</th>\n",
       "      <th>cell_id19</th>\n",
       "      <th>rsr19</th>\n",
       "      <th>cell_id20</th>\n",
       "      <th>rsr20</th>\n",
       "    </tr>\n",
       "    <tr>\n",
       "      <th>time</th>\n",
       "      <th></th>\n",
       "      <th></th>\n",
       "      <th></th>\n",
       "      <th></th>\n",
       "      <th></th>\n",
       "      <th></th>\n",
       "      <th></th>\n",
       "      <th></th>\n",
       "      <th></th>\n",
       "      <th></th>\n",
       "      <th></th>\n",
       "      <th></th>\n",
       "      <th></th>\n",
       "      <th></th>\n",
       "      <th></th>\n",
       "      <th></th>\n",
       "      <th></th>\n",
       "      <th></th>\n",
       "      <th></th>\n",
       "      <th></th>\n",
       "      <th></th>\n",
       "    </tr>\n",
       "  </thead>\n",
       "  <tbody>\n",
       "    <tr>\n",
       "      <th>0.1</th>\n",
       "      <td>31</td>\n",
       "      <td>-49.11</td>\n",
       "      <td>27</td>\n",
       "      <td>-51.14</td>\n",
       "      <td>88</td>\n",
       "      <td>-63.21</td>\n",
       "      <td>25</td>\n",
       "      <td>-63.78</td>\n",
       "      <td>135</td>\n",
       "      <td>-65.65</td>\n",
       "      <td>...</td>\n",
       "      <td>91</td>\n",
       "      <td>-77.62</td>\n",
       "      <td>187</td>\n",
       "      <td>-77.92</td>\n",
       "      <td>33</td>\n",
       "      <td>-78.18</td>\n",
       "      <td>15</td>\n",
       "      <td>-78.56</td>\n",
       "      <td>152</td>\n",
       "      <td>-79.62</td>\n",
       "    </tr>\n",
       "    <tr>\n",
       "      <th>0.2</th>\n",
       "      <td>31</td>\n",
       "      <td>-49.11</td>\n",
       "      <td>27</td>\n",
       "      <td>-51.14</td>\n",
       "      <td>88</td>\n",
       "      <td>-63.21</td>\n",
       "      <td>25</td>\n",
       "      <td>-63.78</td>\n",
       "      <td>135</td>\n",
       "      <td>-65.65</td>\n",
       "      <td>...</td>\n",
       "      <td>91</td>\n",
       "      <td>-77.62</td>\n",
       "      <td>187</td>\n",
       "      <td>-77.92</td>\n",
       "      <td>33</td>\n",
       "      <td>-78.18</td>\n",
       "      <td>15</td>\n",
       "      <td>-78.56</td>\n",
       "      <td>152</td>\n",
       "      <td>-79.62</td>\n",
       "    </tr>\n",
       "    <tr>\n",
       "      <th>0.3</th>\n",
       "      <td>31</td>\n",
       "      <td>-49.11</td>\n",
       "      <td>27</td>\n",
       "      <td>-51.14</td>\n",
       "      <td>88</td>\n",
       "      <td>-63.21</td>\n",
       "      <td>25</td>\n",
       "      <td>-63.78</td>\n",
       "      <td>135</td>\n",
       "      <td>-65.65</td>\n",
       "      <td>...</td>\n",
       "      <td>91</td>\n",
       "      <td>-77.62</td>\n",
       "      <td>187</td>\n",
       "      <td>-77.92</td>\n",
       "      <td>33</td>\n",
       "      <td>-78.18</td>\n",
       "      <td>15</td>\n",
       "      <td>-78.56</td>\n",
       "      <td>152</td>\n",
       "      <td>-79.62</td>\n",
       "    </tr>\n",
       "    <tr>\n",
       "      <th>0.4</th>\n",
       "      <td>31</td>\n",
       "      <td>-49.11</td>\n",
       "      <td>27</td>\n",
       "      <td>-51.14</td>\n",
       "      <td>88</td>\n",
       "      <td>-63.21</td>\n",
       "      <td>25</td>\n",
       "      <td>-63.78</td>\n",
       "      <td>135</td>\n",
       "      <td>-65.65</td>\n",
       "      <td>...</td>\n",
       "      <td>91</td>\n",
       "      <td>-77.62</td>\n",
       "      <td>187</td>\n",
       "      <td>-77.92</td>\n",
       "      <td>33</td>\n",
       "      <td>-78.18</td>\n",
       "      <td>15</td>\n",
       "      <td>-78.56</td>\n",
       "      <td>152</td>\n",
       "      <td>-79.62</td>\n",
       "    </tr>\n",
       "    <tr>\n",
       "      <th>0.5</th>\n",
       "      <td>31</td>\n",
       "      <td>-49.11</td>\n",
       "      <td>27</td>\n",
       "      <td>-51.14</td>\n",
       "      <td>88</td>\n",
       "      <td>-63.21</td>\n",
       "      <td>25</td>\n",
       "      <td>-63.78</td>\n",
       "      <td>135</td>\n",
       "      <td>-65.65</td>\n",
       "      <td>...</td>\n",
       "      <td>91</td>\n",
       "      <td>-77.62</td>\n",
       "      <td>187</td>\n",
       "      <td>-77.92</td>\n",
       "      <td>33</td>\n",
       "      <td>-78.18</td>\n",
       "      <td>15</td>\n",
       "      <td>-78.56</td>\n",
       "      <td>152</td>\n",
       "      <td>-79.62</td>\n",
       "    </tr>\n",
       "  </tbody>\n",
       "</table>\n",
       "<p>5 rows × 40 columns</p>\n",
       "</div>"
      ],
      "text/plain": [
       "      cell_id1   rsr1  cell_id2   rsr2  cell_id3   rsr3  cell_id4   rsr4  \\\n",
       "time                                                                       \n",
       "0.1         31 -49.11        27 -51.14        88 -63.21        25 -63.78   \n",
       "0.2         31 -49.11        27 -51.14        88 -63.21        25 -63.78   \n",
       "0.3         31 -49.11        27 -51.14        88 -63.21        25 -63.78   \n",
       "0.4         31 -49.11        27 -51.14        88 -63.21        25 -63.78   \n",
       "0.5         31 -49.11        27 -51.14        88 -63.21        25 -63.78   \n",
       "\n",
       "      cell_id5   rsr5  ...    cell_id16  rsr16  cell_id17  rsr17  cell_id18  \\\n",
       "time                   ...                                                    \n",
       "0.1        135 -65.65  ...           91 -77.62        187 -77.92         33   \n",
       "0.2        135 -65.65  ...           91 -77.62        187 -77.92         33   \n",
       "0.3        135 -65.65  ...           91 -77.62        187 -77.92         33   \n",
       "0.4        135 -65.65  ...           91 -77.62        187 -77.92         33   \n",
       "0.5        135 -65.65  ...           91 -77.62        187 -77.92         33   \n",
       "\n",
       "      rsr18  cell_id19  rsr19  cell_id20  rsr20  \n",
       "time                                             \n",
       "0.1  -78.18         15 -78.56        152 -79.62  \n",
       "0.2  -78.18         15 -78.56        152 -79.62  \n",
       "0.3  -78.18         15 -78.56        152 -79.62  \n",
       "0.4  -78.18         15 -78.56        152 -79.62  \n",
       "0.5  -78.18         15 -78.56        152 -79.62  \n",
       "\n",
       "[5 rows x 40 columns]"
      ]
     },
     "execution_count": 56,
     "metadata": {},
     "output_type": "execute_result"
    }
   ],
   "source": [
    "df_user_rsr.loc[1].head()"
   ]
  },
  {
   "cell_type": "code",
   "execution_count": 19,
   "metadata": {
    "collapsed": false
   },
   "outputs": [
    {
     "data": {
      "text/plain": [
       "array([[  9893.95,  13653.38],\n",
       "       [  9893.95,  13653.38],\n",
       "       [  9893.95,  13653.38],\n",
       "       [  9893.95,  13653.38],\n",
       "       [  9893.95,  13653.38],\n",
       "       [  9893.95,  13653.37]])"
      ]
     },
     "execution_count": 19,
     "metadata": {},
     "output_type": "execute_result"
    }
   ],
   "source": [
    "pos_test[:6,:]"
   ]
  },
  {
   "cell_type": "markdown",
   "metadata": {},
   "source": [
    "Checking that test matrix is properly constructed"
   ]
  },
  {
   "cell_type": "code",
   "execution_count": 57,
   "metadata": {
    "collapsed": false
   },
   "outputs": [
    {
     "name": "stdout",
     "output_type": "stream",
     "text": [
      "-1395.1\n",
      "-1395.1\n"
     ]
    }
   ],
   "source": [
    "# Checking test matrix\n",
    "print X_test[8,:].sum()\n",
    "\n",
    "cur_rsr = df_user_rsr.loc[1, 0.8]\n",
    "print cur_rsr[rsrfields].sum()"
   ]
  },
  {
   "cell_type": "markdown",
   "metadata": {},
   "source": [
    "It seems that everything is allright with the test matrix, in sense it is properly constructed.."
   ]
  },
  {
   "cell_type": "code",
   "execution_count": 72,
   "metadata": {
    "collapsed": false
   },
   "outputs": [
    {
     "data": {
      "text/plain": [
       "array([20, 21, 22, 23], dtype=int32)"
      ]
     },
     "execution_count": 72,
     "metadata": {},
     "output_type": "execute_result"
    }
   ],
   "source": [
    "np.unique(X_train.getnnz(axis=1))"
   ]
  },
  {
   "cell_type": "markdown",
   "metadata": {},
   "source": [
    "Here it is also good.."
   ]
  },
  {
   "cell_type": "code",
   "execution_count": 92,
   "metadata": {
    "collapsed": false
   },
   "outputs": [
    {
     "data": {
      "text/plain": [
       "array([ -1.18330000e+02,  -1.18290000e+02,  -1.18240000e+02, ...,\n",
       "         1.89794700e+06,   1.89794800e+06,   1.89794900e+06])"
      ]
     },
     "execution_count": 92,
     "metadata": {},
     "output_type": "execute_result"
    }
   ],
   "source": [
    "np.unique(pos_pred)"
   ]
  },
  {
   "cell_type": "code",
   "execution_count": 94,
   "metadata": {
    "collapsed": false
   },
   "outputs": [
    {
     "data": {
      "text/plain": [
       "array([  8500.,  11007.])"
      ]
     },
     "execution_count": 94,
     "metadata": {},
     "output_type": "execute_result"
    }
   ],
   "source": [
    "np.unique(pos_pred)"
   ]
  },
  {
   "cell_type": "markdown",
   "metadata": {},
   "source": [
    "got you, bitch!"
   ]
  },
  {
   "cell_type": "code",
   "execution_count": 84,
   "metadata": {
    "collapsed": false
   },
   "outputs": [
    {
     "data": {
      "text/plain": [
       "array([[  9894.,  13653.]])"
      ]
     },
     "execution_count": 84,
     "metadata": {},
     "output_type": "execute_result"
    }
   ],
   "source": [
    "knn.predict(X_test[1, :])"
   ]
  },
  {
   "cell_type": "code",
   "execution_count": 95,
   "metadata": {
    "collapsed": false
   },
   "outputs": [
    {
     "data": {
      "text/plain": [
       "array([[  9894.,  13653.],\n",
       "       [  9894.,  13653.],\n",
       "       [  9894.,  13653.],\n",
       "       [  9894.,  13653.],\n",
       "       [  9894.,  13653.],\n",
       "       [  9894.,  13653.],\n",
       "       [  9894.,  13653.],\n",
       "       [  9894.,  13653.],\n",
       "       [  9894.,  13653.],\n",
       "       [  9894.,  13653.]])"
      ]
     },
     "execution_count": 95,
     "metadata": {},
     "output_type": "execute_result"
    }
   ],
   "source": [
    "istep = 10\n",
    "i = 10\n",
    "knn.predict(X_test[(i-istep):i, :])"
   ]
  },
  {
   "cell_type": "code",
   "execution_count": 105,
   "metadata": {
    "collapsed": true
   },
   "outputs": [],
   "source": [
    "a = range(1000000, pos_pred.shape[0], 1000000)"
   ]
  },
  {
   "cell_type": "code",
   "execution_count": 106,
   "metadata": {
    "collapsed": false
   },
   "outputs": [
    {
     "data": {
      "text/plain": [
       "[1000000, 2000000]"
      ]
     },
     "execution_count": 106,
     "metadata": {},
     "output_type": "execute_result"
    }
   ],
   "source": [
    "a"
   ]
  }
 ],
 "metadata": {
  "kernelspec": {
   "display_name": "Python 2",
   "language": "python",
   "name": "python2"
  },
  "language_info": {
   "codemirror_mode": {
    "name": "ipython",
    "version": 2
   },
   "file_extension": ".py",
   "mimetype": "text/x-python",
   "name": "python",
   "nbconvert_exporter": "python",
   "pygments_lexer": "ipython2",
   "version": "2.7.11"
  }
 },
 "nbformat": 4,
 "nbformat_minor": 0
}
