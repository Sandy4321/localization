{
 "cells": [
  {
   "cell_type": "markdown",
   "metadata": {},
   "source": [
    "# Exploring UC1004 dataset"
   ]
  },
  {
   "cell_type": "code",
   "execution_count": null,
   "metadata": {
    "collapsed": false
   },
   "outputs": [],
   "source": [
    "import sys\n",
    "sys.path.insert(0, './utils/')\n",
    "\n",
    "import geo_conv\n",
    "import sqlite3 as sqlite\n",
    "import pandas as pd\n",
    "import numpy as np\n",
    "import matplotlib.pyplot as plt\n",
    "import folium\n",
    "\n",
    "plt.style.use('ggplot')\n",
    "%matplotlib inline"
   ]
  },
  {
   "cell_type": "markdown",
   "metadata": {},
   "source": [
    "Database schema: network, us_pos, us_signal"
   ]
  },
  {
   "cell_type": "code",
   "execution_count": null,
   "metadata": {
    "collapsed": true
   },
   "outputs": [],
   "source": [
    "def add_lat_lon(df):\n",
    "    xy = zip(df.x.values, df.y.values)\n",
    "    latlon = map(lambda (coord):geo_conv.convert_GK_to_lat_long(coord[0]+__XMIN, coord[1]+__YMIN), xy)\n",
    "    \n",
    "    if 'lat' not in df.columns:\n",
    "        df = pd.concat([df, \n",
    "                        pd.DataFrame.from_records(latlon, columns=['lat', 'lon'])],\n",
    "                       axis=1)\n",
    "    else:\n",
    "        df[['lat', 'lon']] = pd.DataFrame.from_records(latlon, columns=['lat', 'lon'])\n",
    "        \n",
    "    return df"
   ]
  },
  {
   "cell_type": "code",
   "execution_count": null,
   "metadata": {
    "collapsed": true
   },
   "outputs": [],
   "source": [
    "__CITY_LAT = 52.3667\n",
    "__CITY_LON = 9.7167\n",
    "__XMIN = 4336000\n",
    "__YMIN = 5794000"
   ]
  },
  {
   "cell_type": "code",
   "execution_count": null,
   "metadata": {
    "collapsed": true
   },
   "outputs": [],
   "source": [
    "# Setting conntection to sqlite db\n",
    "conn = sqlite.connect('./data/uc1004/uc1004.db')"
   ]
  },
  {
   "cell_type": "markdown",
   "metadata": {},
   "source": [
    "## Getting Networkd data"
   ]
  },
  {
   "cell_type": "code",
   "execution_count": null,
   "metadata": {
    "collapsed": false
   },
   "outputs": [],
   "source": [
    "# Get Network data file\n",
    "query = 'SELECT * FROM network;'\n",
    "\n",
    "network = pd.read_sql(query, conn)\n",
    "network.shape"
   ]
  },
  {
   "cell_type": "code",
   "execution_count": null,
   "metadata": {
    "collapsed": false
   },
   "outputs": [],
   "source": [
    "network = add_lat_lon(network)\n",
    "network.set_index('cell_id', inplace=True)\n",
    "network.head(10)"
   ]
  },
  {
   "cell_type": "markdown",
   "metadata": {},
   "source": [
    "## Getting User Position"
   ]
  },
  {
   "cell_type": "markdown",
   "metadata": {},
   "source": [
    "As it goes from the article, users are categorized to:<br\\>\n",
    "Vehicular: 0 ... 4619 <br\\>\n",
    "Pedestrian: 10000 ... 15246<br\\>\n",
    "Static Indoor: 20000 ... 29999"
   ]
  },
  {
   "cell_type": "code",
   "execution_count": null,
   "metadata": {
    "collapsed": false
   },
   "outputs": [],
   "source": [
    "user_id = 10003\n",
    "query = 'SELECT * FROM us_pos WHERE userid=%d' % user_id\n",
    "user_pos = pd.read_sql(query, conn)"
   ]
  },
  {
   "cell_type": "code",
   "execution_count": null,
   "metadata": {
    "collapsed": false
   },
   "outputs": [],
   "source": [
    "print user_pos.shape\n",
    "user_pos.sort_values('time', inplace=True)\n",
    "user_pos.head()"
   ]
  },
  {
   "cell_type": "code",
   "execution_count": null,
   "metadata": {
    "collapsed": false
   },
   "outputs": [],
   "source": [
    "# Adding lat, long columns\n",
    "user_pos = add_lat_lon(user_pos)\n",
    "user_pos.head()"
   ]
  },
  {
   "cell_type": "markdown",
   "metadata": {},
   "source": [
    "## Getting User's RSPS"
   ]
  },
  {
   "cell_type": "code",
   "execution_count": null,
   "metadata": {
    "collapsed": true
   },
   "outputs": [],
   "source": [
    "query = 'SELECT * FROM us_signal WHERE userid=%d' % user_id\n",
    "user_signals = pd.read_sql(query, conn)"
   ]
  },
  {
   "cell_type": "code",
   "execution_count": null,
   "metadata": {
    "collapsed": false
   },
   "outputs": [],
   "source": [
    "print user_signals.shape\n",
    "user_signals.sort_values('time', inplace=True)\n",
    "user_signals.head()"
   ]
  },
  {
   "cell_type": "code",
   "execution_count": null,
   "metadata": {
    "collapsed": false
   },
   "outputs": [],
   "source": [
    "# Identify cell set for user\n",
    "cell_id_cols = range(2, 42, 2)\n",
    "cell_ids = np.unique(user_signals.iloc[:, cell_id_cols].values.astype(int))"
   ]
  },
  {
   "cell_type": "markdown",
   "metadata": {},
   "source": [
    "## Plotting Maps From Dataset"
   ]
  },
  {
   "cell_type": "markdown",
   "metadata": {},
   "source": [
    "### Land-case map"
   ]
  },
  {
   "cell_type": "code",
   "execution_count": null,
   "metadata": {
    "collapsed": true
   },
   "outputs": [],
   "source": [
    "# Land-case map\n",
    "use_map = np.genfromtxt('Land_Use_Map.csv', delimiter=';')"
   ]
  },
  {
   "cell_type": "code",
   "execution_count": null,
   "metadata": {
    "collapsed": false
   },
   "outputs": [],
   "source": [
    "print use_map.shape # It differes from info in the article\n",
    "print np.unique(use_map)"
   ]
  },
  {
   "cell_type": "code",
   "execution_count": null,
   "metadata": {
    "collapsed": true
   },
   "outputs": [],
   "source": [
    "# .T to have refference with pics in the article\n",
    "# But map shoulb be rotated by 90 degrees (according to google maps)\n",
    "# Moreover, the map in data is not the same as in the article..\n",
    "# fig = plt.figure(figsize=(10, 20))\n",
    "# plt.imshow(use_map.T, cmap='flag')"
   ]
  },
  {
   "cell_type": "code",
   "execution_count": null,
   "metadata": {
    "collapsed": true
   },
   "outputs": [],
   "source": [
    "use_map = np.rot90(use_map)"
   ]
  },
  {
   "cell_type": "code",
   "execution_count": null,
   "metadata": {
    "collapsed": false
   },
   "outputs": [],
   "source": [
    "fig = plt.figure(figsize=(10, 20))\n",
    "plt.imshow(use_map, cmap='flag')"
   ]
  },
  {
   "cell_type": "markdown",
   "metadata": {},
   "source": [
    "### Best server map"
   ]
  },
  {
   "cell_type": "code",
   "execution_count": null,
   "metadata": {
    "collapsed": true
   },
   "outputs": [],
   "source": [
    "best_server = np.genfromtxt('Best_Server_Map.csv', delimiter=';')"
   ]
  },
  {
   "cell_type": "code",
   "execution_count": null,
   "metadata": {
    "collapsed": false
   },
   "outputs": [],
   "source": [
    "print best_server.shape # It differes from info in the article\n",
    "print np.unique(best_server) # should be at least = to # of cells"
   ]
  },
  {
   "cell_type": "code",
   "execution_count": null,
   "metadata": {
    "collapsed": true
   },
   "outputs": [],
   "source": [
    "best_server = np.rot90(best_server)"
   ]
  },
  {
   "cell_type": "code",
   "execution_count": null,
   "metadata": {
    "collapsed": false
   },
   "outputs": [],
   "source": [
    "fig = plt.figure(figsize=(10, 20))\n",
    "plt.imshow(best_server, cmap='flag')"
   ]
  },
  {
   "cell_type": "markdown",
   "metadata": {},
   "source": [
    "## Playing with real map"
   ]
  },
  {
   "cell_type": "code",
   "execution_count": null,
   "metadata": {
    "collapsed": false
   },
   "outputs": [],
   "source": [
    "map_hannover = folium.Map(location=[__CITY_LAT, __CITY_LON], \n",
    "                          zoom_start=15)\n",
    "map_hannover.line(locations=user_pos[['lat', 'lon']].values,\n",
    "                  line_opacity=0.5, \n",
    "                  popup=('user: ' + str(user_id)))\n",
    "for cid in cell_ids:\n",
    "    cell = network.loc[cid]\n",
    "    map_hannover.polygon_marker(location=[cell.lat, cell.lon],\n",
    "                                num_sides=3,\n",
    "                                radius=5,\n",
    "                                rotation=cell.azimuth,\n",
    "                                popup='cell_id: ' + str(cid) + '\\nazimuth: ' + str(cell.azimuth))\n",
    "\n",
    "map_hannover.create_map(path='./data/uc1004/map.html')"
   ]
  },
  {
   "cell_type": "markdown",
   "metadata": {},
   "source": [
    "## Making user signals in better way"
   ]
  },
  {
   "cell_type": "code",
   "execution_count": null,
   "metadata": {
    "collapsed": false
   },
   "outputs": [],
   "source": [
    "signals_long = (pd.wide_to_long(user_signals, ['cell_id', 'rsr'], i='time', j='cell_order')\n",
    "                  .reset_index()\n",
    "                  .set_index(['cell_id', 'time'])\n",
    "                  .sort_index(level=0))"
   ]
  },
  {
   "cell_type": "code",
   "execution_count": null,
   "metadata": {
    "collapsed": false
   },
   "outputs": [],
   "source": [
    "cell_id = 6\n",
    "signals_long.loc[cell_id].plot(y='rsr'\n",
    "                              )\n",
    "fig = plt.gcf()\n",
    "fig.set_size_inches(20,10)\n",
    "plt.ylabel('RSR')\n",
    "plt.xlabel('time')"
   ]
  }
 ],
 "metadata": {
  "kernelspec": {
   "display_name": "Python 2",
   "language": "python",
   "name": "python2"
  },
  "language_info": {
   "codemirror_mode": {
    "name": "ipython",
    "version": 2
   },
   "file_extension": ".py",
   "mimetype": "text/x-python",
   "name": "python",
   "nbconvert_exporter": "python",
   "pygments_lexer": "ipython2",
   "version": "2.7.10"
  }
 },
 "nbformat": 4,
 "nbformat_minor": 0
}
